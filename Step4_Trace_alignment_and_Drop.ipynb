{
 "cells": [
  {
   "cell_type": "markdown",
   "id": "f09aeb97-bf92-4be9-8e43-ef41d294361b",
   "metadata": {},
   "source": [
    "# Select base Trace"
   ]
  },
  {
   "cell_type": "code",
   "execution_count": null,
   "id": "2b49c888-6d4a-4371-a7d9-c1bebe833d90",
   "metadata": {},
   "outputs": [],
   "source": []
  },
  {
   "cell_type": "markdown",
   "id": "7341f33d-7b8f-42f0-b292-8419ef6b0c08",
   "metadata": {},
   "source": [
    "# Alignment"
   ]
  },
  {
   "cell_type": "code",
   "execution_count": null,
   "id": "33d17c4f-2fc5-493d-903e-3145941e65ad",
   "metadata": {},
   "outputs": [],
   "source": []
  }
 ],
 "metadata": {
  "kernelspec": {
   "display_name": "Python (side_channel)",
   "language": "python",
   "name": "side_channel"
  },
  "language_info": {
   "codemirror_mode": {
    "name": "ipython",
    "version": 3
   },
   "file_extension": ".py",
   "mimetype": "text/x-python",
   "name": "python",
   "nbconvert_exporter": "python",
   "pygments_lexer": "ipython3",
   "version": "3.9.20"
  }
 },
 "nbformat": 4,
 "nbformat_minor": 5
}
