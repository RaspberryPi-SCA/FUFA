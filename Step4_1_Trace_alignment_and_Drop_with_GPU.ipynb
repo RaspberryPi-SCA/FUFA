{
 "cells": [
  {
   "cell_type": "markdown",
   "metadata": {
    "id": "Vedl7VuucreZ"
   },
   "source": [
    "# Libraries"
   ]
  },
  {
   "cell_type": "code",
   "execution_count": null,
   "metadata": {
    "id": "pKVlzhirRiUK"
   },
   "outputs": [],
   "source": [
    "import os\n",
    "import math\n",
    "import numpy as np\n",
    "from scipy import signal\n",
    "from tqdm.auto import tqdm\n",
    "import matplotlib.pyplot as plt\n",
    "\n",
    "plt.rcParams['font.family'] = 'Times New Roman'\n",
    "plt.rcParams['font.size'] = 12\n",
    "\n",
    "axisFontSize = 14\n",
    "titleFontSize = 20"
   ]
  },
  {
   "cell_type": "markdown",
   "metadata": {
    "id": "MSChDVguczej"
   },
   "source": [
    "# Parameters"
   ]
  },
  {
   "cell_type": "markdown",
   "metadata": {
    "id": "Fs4cC7sGc1r4"
   },
   "source": [
    "## Data Path"
   ]
  },
  {
   "cell_type": "code",
   "execution_count": null,
   "metadata": {
    "id": "q6b9POXtc7EB"
   },
   "outputs": [],
   "source": [
    "tracePath = 'C:/Users/01sun/source/repos/raspberrypi/trace_20250124'\n",
    "traceNum = 1000000"
   ]
  },
  {
   "cell_type": "markdown",
   "metadata": {
    "id": "9YI-ledCc9Rs"
   },
   "source": [
    "## Spectrogram"
   ]
  },
  {
   "cell_type": "code",
   "execution_count": null,
   "metadata": {
    "id": "byTaxiDgc8qE"
   },
   "outputs": [],
   "source": [
    "samplingFrequency = int(5e9)  # unit: Hz (set this from the setting of oscilloscope)\n",
    "windowLength      = 1000      # The number of samples in the window.\n",
    "noverlap          = None    # Number of points to overlap between segments. If None, noverlap = nperseg // 8. Defaults to None."
   ]
  },
  {
   "cell_type": "markdown",
   "metadata": {
    "id": "cEWNj4BwdEcT"
   },
   "source": [
    "## FIR (Finite Impulse Response) filter"
   ]
  },
  {
   "cell_type": "code",
   "execution_count": null,
   "metadata": {
    "id": "Xap0eR7kc7-T"
   },
   "outputs": [],
   "source": [
    "filterOrder  = int(1e2 - 1)            # Length of the filter (number of coefficients, i.e. the filter order + 1). numtaps must be odd if a passband includes the Nyquist frequency\n",
    "filterWidth  = None                    # If width is not None, then assume it is the approximate width of the transition region (expressed in the same units as fs) for use in Kaiser FIR filter design. In this case, the window argument is ignored.\n",
    "bandPassFreq = [int(1e7), int(1e8)]#, int(895e6), int(905e6), int(995e6), int(1005e6)]#[int(15e6), int(25e6)]  # Cutoff frequency of filter (expressed in the same units as fs) OR an array of cutoff frequencies (that is, band edges). In the latter case, the frequencies in cutoff should be positive and monotonically increasing between 0 and fs/2. The values 0 and fs/2 must not be included in cutoff."
   ]
  },
  {
   "cell_type": "markdown",
   "metadata": {
    "id": "jcxQoeybdLoL"
   },
   "source": [
    "## Alignment"
   ]
  },
  {
   "cell_type": "code",
   "execution_count": null,
   "metadata": {
    "id": "V4Cg0UdHdR-L"
   },
   "outputs": [],
   "source": [
    "referenceTraceIndex = 350404\n",
    "referenceTraceXrange = [15000, 40000]# [9500, 44500] #[39000, 44900] #[42900, 44900]\n",
    "correlationCriterion = 0.65           # drop the trace whose maximum of the correlation between the trace and reference trace is under that\n",
    "traceCutRange = [13000, 42000]\n",
    "\n",
    "MAwindowSize = 500\n",
    "jump         = 1\n",
    "bound        = 500"
   ]
  },
  {
   "cell_type": "markdown",
   "metadata": {
    "id": "KiL5TIQNdTzQ"
   },
   "source": [
    "## Result"
   ]
  },
  {
   "cell_type": "code",
   "execution_count": null,
   "metadata": {
    "colab": {
     "base_uri": "https://localhost:8080/"
    },
    "id": "1FG_L8IqdWKU",
    "outputId": "e6886a9e-cd63-40c7-c0d1-29772ade4cc5"
   },
   "outputs": [],
   "source": [
    "resultFolderName = '{}/alignment_and_drop_GPU_20250203'.format(tracePath)\n",
    "os.makedirs(resultFolderName, exist_ok=True)\n",
    "print(resultFolderName)\n",
    "\n",
    "with open('{}/parameters.txt'.format(resultFolderName), 'w') as fp:\n",
    "    fp.write('tracePath: {}\\n'.format(tracePath))  \n",
    "    fp.write('filterOrder: {}\\n'.format(filterOrder))    \n",
    "    fp.write('filterWidth: {}\\n'.format(filterWidth))    \n",
    "    fp.write('bandPassFreq: {}\\n'.format(bandPassFreq))    \n",
    "    fp.write('referenceTraceIndex: {}\\n'.format(referenceTraceIndex))   \n",
    "    fp.write('referenceTraceXrange: {}\\n'.format(referenceTraceXrange))    \n",
    "    fp.write('correlationCriterion: {}\\n'.format(correlationCriterion))    \n",
    "    fp.write('traceCutRange: {}\\n'.format(traceCutRange))    \n",
    "    fp.write('MAwindowSize: {}\\n'.format(MAwindowSize))    \n",
    "    fp.write('jump: {}\\n'.format(jump))    \n",
    "    fp.write('bound: {}\\n'.format(bound))  "
   ]
  },
  {
   "cell_type": "code",
   "execution_count": null,
   "metadata": {},
   "outputs": [],
   "source": [
    "trace = np.load('{}/trace_0.npy'.format(tracePath))\n",
    "print('Number of points: {}'.format(len(trace)))"
   ]
  },
  {
   "cell_type": "markdown",
   "metadata": {},
   "source": [
    "# Select Band Pass Freq"
   ]
  },
  {
   "cell_type": "code",
   "execution_count": null,
   "metadata": {},
   "outputs": [],
   "source": [
    "firCoeff = signal.firwin(numtaps=filterOrder, cutoff=bandPassFreq, width=filterWidth, window='hamming', fs=samplingFrequency, pass_zero=False)"
   ]
  },
  {
   "cell_type": "code",
   "execution_count": null,
   "metadata": {},
   "outputs": [],
   "source": [
    "trace = np.load('{}/trace_{}.npy'.format(tracePath, referenceTraceIndex))\n",
    "filteredTrace = signal.filtfilt(b=firCoeff, a=1.0, x=trace)\n",
    "result_path = \"C:/Users/01sun\"\n",
    "plt.figure(figsize=(12, 6))\n",
    "plt.plot(filteredTrace)\n",
    "plt.title('Original Trace')\n",
    "plt.xlim(0, trace.shape[0])\n",
    "plt.ylabel('Voltage (V)', fontsize=axisFontSize)\n",
    "plt.tight_layout()\n",
    "plt.savefig('{}/trace.png'.format(result_path))\n",
    "plt.show()\n"
   ]
  },
  {
   "cell_type": "code",
   "execution_count": null,
   "metadata": {},
   "outputs": [],
   "source": [
    "trace_index_range = [350400, 350410]"
   ]
  },
  {
   "cell_type": "code",
   "execution_count": null,
   "metadata": {
    "scrolled": true
   },
   "outputs": [],
   "source": [
    "for traceIndex in tqdm(range(trace_index_range[0], trace_index_range[1])):\n",
    "    print(traceIndex)\n",
    "    trace = np.load('{}/trace_{}.npy'.format(tracePath, traceIndex))\n",
    "    f, t, Sxx = signal.spectrogram(trace, fs=samplingFrequency, noverlap=noverlap, window=signal.get_window(window='hamming', Nx=windowLength))\n",
    "    \n",
    "    duration = trace.shape[0] / samplingFrequency\n",
    "    \n",
    "    plt.figure(figsize=(15, 13))\n",
    "    plt.subplot(6, 1, 1)\n",
    "    plt.title('Original Signal', fontsize=titleFontSize)\n",
    "    plt.plot(np.linspace(0, duration, trace.shape[0]), trace, linewidth=0.2)\n",
    "    plt.xlim(0, duration)\n",
    "    plt.ylabel('Voltage (V)', fontsize=axisFontSize)\n",
    "    \n",
    "    plt.subplot(6, 1, 2)\n",
    "    plt.title('Spectrogram', fontsize=titleFontSize)\n",
    "    plt.pcolormesh(t, f, Sxx)\n",
    "    plt.xlim(0, duration)\n",
    "    plt.ylabel('Frequency (Hz)', fontsize=axisFontSize)\n",
    "    \n",
    "    plt.subplot(6, 1, 3)\n",
    "    plt.title('Spectrogram near clock freq', fontsize=titleFontSize)\n",
    "    ind1 = len(f[f<=550e6])\n",
    "    ind2 = len(f[f<=650e6])\n",
    "    plt.pcolormesh(t, f[ind1:ind2], Sxx[ind1:ind2, :])\n",
    "    plt.xlim(0, duration)\n",
    "    plt.ylim(550e6, 650e6)\n",
    "    plt.ylabel('Frequency (Hz)', fontsize=axisFontSize)\n",
    "    \n",
    "    plt.subplot(6, 1, 4)\n",
    "    plt.title('Spectrogram low freq 1', fontsize=titleFontSize)\n",
    "    ind = len(f[f<=400e6])\n",
    "    plt.pcolormesh(t, f[:ind], Sxx[:ind, :])\n",
    "    plt.xlim(0, duration)\n",
    "    plt.ylim(0, 400e6)\n",
    "    plt.ylabel('Frequency (Hz)', fontsize=axisFontSize)\n",
    "    \n",
    "    plt.subplot(6, 1, 5)\n",
    "    plt.title('Spectrogram low freq 2', fontsize=titleFontSize)\n",
    "    ind = len(f[f<=100e6])\n",
    "    plt.pcolormesh(t, f[:ind], Sxx[:ind, :])\n",
    "    plt.xlim(0, duration)\n",
    "    plt.ylim(0, 100e6)\n",
    "    plt.ylabel('Frequency (Hz)', fontsize=axisFontSize)\n",
    "             \n",
    "    plt.subplot(6, 1, 6)\n",
    "    plt.title('Spectrogram band pass', fontsize=titleFontSize)\n",
    "    ind1 = len(f[f<bandPassFreq[0]])\n",
    "    ind2 = len(f[f<=bandPassFreq[1]])\n",
    "    plt.pcolormesh(t, f[ind1:ind2], Sxx[ind1:ind2, :])\n",
    "    plt.xlim(0, duration)\n",
    "    plt.ylim(bandPassFreq[0], bandPassFreq[1])\n",
    "    plt.ylabel('Frequency (Hz)', fontsize=axisFontSize)\n",
    "    \n",
    "    plt.xlabel('Time (sec)', fontsize=axisFontSize)\n",
    "    plt.tight_layout()\n",
    "    plt.savefig('{}/spectrogram_{}.png'.format(resultFolderName, traceIndex), dpi=300, bbox_inches='tight')\n",
    "    plt.show()\n",
    "\n",
    "    #########################################################################################################\n",
    "    \n",
    "    filteredTrace = signal.filtfilt(b=firCoeff, a=1.0, x=trace)\n",
    "        \n",
    "    plt.figure(figsize=(15, 7))\n",
    "    plt.subplot(2, 1, 1)\n",
    "    plt.title('Original Signal', fontsize=titleFontSize)\n",
    "    plt.plot(trace, linewidth=0.5)\n",
    "    plt.xlim(0, trace.shape[0]-1)\n",
    "    plt.ylabel('Voltage (V)', fontsize=axisFontSize)\n",
    "        \n",
    "    plt.subplot(2, 1, 2)\n",
    "    plt.title('Filtered Signal ({}-{}Hz)'.format(bandPassFreq[0], bandPassFreq[1]), fontsize=titleFontSize)\n",
    "    plt.plot(filteredTrace, linewidth=0.5)\n",
    "    plt.xlim(0, trace.shape[0]-1)\n",
    "    plt.ylabel('Voltage (V)', fontsize=axisFontSize)\n",
    "    \n",
    "    plt.xlabel('Time (point)', fontsize=axisFontSize)\n",
    "    plt.tight_layout()\n",
    "    plt.savefig('{}/bandPass_{}.png'.format(resultFolderName, traceIndex), dpi=300, bbox_inches='tight')\n",
    "    plt.show()"
   ]
  },
  {
   "cell_type": "code",
   "execution_count": null,
   "metadata": {},
   "outputs": [],
   "source": [
    "for traceIndex in tqdm(range(350404, 350405)):\n",
    "    print(traceIndex)\n",
    "    trace = np.load('{}/trace_{}.npy'.format(tracePath, traceIndex))\n",
    "    f, t, Sxx = signal.spectrogram(trace, fs=samplingFrequency, noverlap=noverlap, window=signal.get_window(window='hamming', Nx=windowLength))\n",
    "\n",
    "    # 스펙트로그램의 x축을 포인트 단위로 변환\n",
    "    t_points = (t * samplingFrequency).astype(int)  # 시간 단위를 포인트 단위로 변경\n",
    "\n",
    "    plt.figure(figsize=(15, 25))\n",
    "    \n",
    "    # Original Signal\n",
    "    plt.subplot(6, 1, 1)\n",
    "    plt.title('Original Signal', fontsize=titleFontSize)\n",
    "    plt.plot(range(trace.shape[0]), trace, linewidth=0.2)  # 포인트 단위\n",
    "    plt.xlim(0, trace.shape[0])\n",
    "    plt.ylabel('Voltage (V)', fontsize=axisFontSize)\n",
    "    plt.xlabel('Point Index', fontsize=axisFontSize)\n",
    "    \n",
    "    # Spectrogram\n",
    "    plt.subplot(6, 1, 2)\n",
    "    plt.title('Spectrogram', fontsize=titleFontSize)\n",
    "    plt.pcolormesh(t_points, f, Sxx)  # x축을 포인트 단위로 변경\n",
    "    plt.xlim(0, t_points[-1])\n",
    "    plt.ylabel('Frequency (Hz)', fontsize=axisFontSize)\n",
    "    plt.xlabel('Point Index', fontsize=axisFontSize)\n",
    "    \n",
    "    # Spectrogram near clock freq\n",
    "    plt.subplot(6, 1, 3)\n",
    "    plt.title('Spectrogram near clock freq', fontsize=titleFontSize)\n",
    "    ind1 = len(f[f <= 550e6])\n",
    "    ind2 = len(f[f <= 650e6])\n",
    "    plt.pcolormesh(t_points, f[ind1:ind2], Sxx[ind1:ind2, :])  # x축을 포인트 단위로 변경\n",
    "    plt.xlim(0, t_points[-1])\n",
    "    plt.ylim(550e6, 650e6)\n",
    "    plt.ylabel('Frequency (Hz)', fontsize=axisFontSize)\n",
    "    plt.xlabel('Point Index', fontsize=axisFontSize)\n",
    "    \n",
    "    # Spectrogram low freq 1\n",
    "    plt.subplot(6, 1, 4)\n",
    "    plt.title('Spectrogram low freq 1', fontsize=titleFontSize)\n",
    "    ind = len(f[f <= 400e6])\n",
    "    plt.pcolormesh(t_points, f[:ind], Sxx[:ind, :])  # x축을 포인트 단위로 변경\n",
    "    plt.xlim(0, t_points[-1])\n",
    "    plt.ylim(0, 400e6)\n",
    "    plt.ylabel('Frequency (Hz)', fontsize=axisFontSize)\n",
    "    plt.xlabel('Point Index', fontsize=axisFontSize)\n",
    "    \n",
    "    # Spectrogram low freq 2\n",
    "    plt.subplot(6, 1, 5)\n",
    "    plt.title('Spectrogram low freq 2', fontsize=titleFontSize)\n",
    "    ind = len(f[f <= 100e6])\n",
    "    plt.pcolormesh(t_points, f[:ind], Sxx[:ind, :])  # x축을 포인트 단위로 변경\n",
    "    plt.xlim(0, t_points[-1])\n",
    "    plt.ylim(0, 100e6)\n",
    "    plt.ylabel('Frequency (Hz)', fontsize=axisFontSize)\n",
    "    plt.xlabel('Point Index', fontsize=axisFontSize)\n",
    "             \n",
    "    # Spectrogram band pass\n",
    "    # Spectrogram band pass\n",
    "    plt.subplot(6, 1, 6)\n",
    "    plt.title('Spectrogram band pass', fontsize=titleFontSize)\n",
    "    ind1 = len(f[f < bandPassFreq[0]])\n",
    "    ind2 = len(f[f <= bandPassFreq[1]])\n",
    "    plt.pcolormesh(t_points, f[ind1:ind2], Sxx[ind1:ind2, :])  # x축을 포인트 단위로 변경\n",
    "    plt.xlim(0, t_points[-1])\n",
    "    plt.ylim(bandPassFreq[0], bandPassFreq[1])\n",
    "    plt.ylabel('Frequency (Hz)', fontsize=axisFontSize)\n",
    "    plt.xlabel('Point Index', fontsize=axisFontSize)\n",
    "    \n",
    "    # 추가: 빨간 수직선 (6000과 26000 부분)\n",
    "    plt.axvline(x=referenceTraceXrange[0], color='red', linestyle='-', linewidth=1.5, label=f'Mark: {referenceTraceXrange[0]}')\n",
    "    plt.axvline(x=referenceTraceXrange[1], color='red', linestyle='-', linewidth=1.5, label=f'Mark: {referenceTraceXrange[1]}')\n",
    "    plt.tight_layout()  # 자동 간격 조정\n",
    "    # 범례 추가\n",
    "    plt.legend(loc='upper right')\n",
    "    plt.tight_layout()  # 자동 간격 조정\n",
    "    plt.savefig('{}/spectrogram_{}.png'.format(resultFolderName, traceIndex), dpi=300, bbox_inches='tight')\n",
    "    #########################################################################################################\n",
    "    \n",
    "    # Band-pass Filtered Signal\n",
    "    filteredTrace = signal.filtfilt(b=firCoeff, a=1.0, x=trace)\n",
    "        \n",
    "    plt.figure(figsize=(15, 7))\n",
    "    plt.subplot(2, 1, 1)\n",
    "    plt.title('Original Signal', fontsize=titleFontSize)\n",
    "    plt.plot(range(trace.shape[0]), trace, linewidth=0.5)  # 포인트 단위\n",
    "    plt.xlim(0, trace.shape[0]-1)\n",
    "    plt.ylabel('Voltage (V)', fontsize=axisFontSize)\n",
    "    plt.xlabel('Point Index', fontsize=axisFontSize)\n",
    "\n",
    "    plt.subplot(2, 1, 2)\n",
    "    plt.title('Filtered Signal ({}-{}Hz)'.format(bandPassFreq[0], bandPassFreq[1]), fontsize=titleFontSize)\n",
    "    plt.plot(range(filteredTrace.shape[0]), filteredTrace, linewidth=0.5)  # 포인트 단위\n",
    "    plt.xlim(0, filteredTrace.shape[0]-1)\n",
    "    plt.ylabel('Voltage (V)', fontsize=axisFontSize)\n",
    "    plt.xlabel('Point Index', fontsize=axisFontSize)\n",
    "    \n",
    "    plt.tight_layout()\n",
    "    plt.tight_layout()\n",
    "    plt.savefig('{}/bandPass_{}.png'.format(resultFolderName, traceIndex), dpi=300, bbox_inches='tight')\n",
    "    plt.show()\n"
   ]
  },
  {
   "cell_type": "markdown",
   "metadata": {},
   "source": [
    "# Setting Reference Trace"
   ]
  },
  {
   "cell_type": "code",
   "execution_count": null,
   "metadata": {},
   "outputs": [],
   "source": [
    "# trace = np.load('{}/trace_{}.npy'.format(tracePath, referenceTraceIndex))\n",
    "filtTrace = signal.filtfilt(b=firCoeff, a=1.0, x=trace)\n",
    "\n",
    "refTrace = np.array(filtTrace[referenceTraceXrange[0] : referenceTraceXrange[1]], dtype=np.float32)\n",
    "\n",
    "plt.figure(figsize=(10, 10))\n",
    "plt.subplot(4, 1, 1)\n",
    "plt.title('Original Signal', fontsize=titleFontSize)\n",
    "plt.plot(trace, linewidth=0.5)\n",
    "plt.vlines(referenceTraceXrange[0], np.min(trace), np.max(trace), color='r', alpha=0.7)\n",
    "plt.vlines(referenceTraceXrange[1], np.min(trace), np.max(trace), color='r', alpha=0.7)\n",
    "plt.xlim(0, len(trace))\n",
    "plt.ylabel('Voltage (V)', fontsize=axisFontSize)\n",
    "    \n",
    "plt.subplot(4, 1, 2)\n",
    "plt.title('Filtered Signal ({}-{}Hz)'.format(bandPassFreq[0], bandPassFreq[1]), fontsize=titleFontSize)\n",
    "plt.plot(filtTrace, linewidth=0.5)\n",
    "plt.vlines(referenceTraceXrange[0], np.min(filtTrace), np.max(filtTrace), color='r', alpha=0.7)\n",
    "plt.vlines(referenceTraceXrange[1], np.min(filtTrace), np.max(filtTrace), color='r', alpha=0.7)\n",
    "plt.xlim(0, len(trace))\n",
    "plt.ylabel('Voltage (V)', fontsize=axisFontSize)\n",
    "\n",
    "plt.subplot(4, 1, 3)\n",
    "plt.title('Original Signal', fontsize=titleFontSize)\n",
    "plt.plot(trace, linewidth=0.5)\n",
    "plt.xlim(referenceTraceXrange[0], referenceTraceXrange[1])\n",
    "plt.ylabel('Voltage (V)', fontsize=axisFontSize)\n",
    "    \n",
    "plt.subplot(4, 1, 4)\n",
    "plt.title('Filtered Signal ({}-{}Hz)'.format(bandPassFreq[0], bandPassFreq[1]), fontsize=titleFontSize)\n",
    "plt.plot(refTrace, linewidth=0.5)\n",
    "plt.xlim(0, len(refTrace)-1)\n",
    "plt.ylabel('Voltage (V)', fontsize=axisFontSize)\n",
    "\n",
    "plt.xlabel('Time (point)', fontsize=axisFontSize)\n",
    "plt.tight_layout()\n",
    "plt.savefig('{}/criterionTrace.png'.format(resultFolderName), dpi=300, bbox_inches='tight')\n",
    "plt.show()"
   ]
  },
  {
   "cell_type": "markdown",
   "metadata": {},
   "source": [
    "# Test Criterion"
   ]
  },
  {
   "cell_type": "code",
   "execution_count": null,
   "metadata": {},
   "outputs": [],
   "source": [
    "def getCorrs(trace, refTrace, refTraceSum, refTraceSquSum):\n",
    "    squTrace = np.square(trace)\n",
    "    traceLen = refTrace.shape[0]\n",
    "\n",
    "    # Phase 1\n",
    "    corrs = []\n",
    "    maxCorr      = 0\n",
    "    maxCorrIndex = 0\n",
    "    for pointIndex in range(0, trace.shape[0] - refTrace.shape[0]):\n",
    "        traceSum    = np.sum(trace[pointIndex:pointIndex+traceLen])\n",
    "        traceSquSum = np.sum(squTrace[pointIndex:pointIndex+traceLen])\n",
    "        corr = (traceLen *  np.sum(trace[pointIndex:pointIndex+traceLen] * refTrace) - traceSum * refTraceSum) / (math.sqrt(traceLen * traceSquSum - traceSum ** 2) * math.sqrt(traceLen * refTraceSquSum - refTraceSum ** 2))\n",
    "        corrs.append(corr)\n",
    "        if maxCorr < corr:\n",
    "            maxCorr = corr\n",
    "            maxCorrIndex = pointIndex\n",
    "            \n",
    "    return maxCorr, maxCorrIndex, corrs"
   ]
  },
  {
   "cell_type": "code",
   "execution_count": null,
   "metadata": {
    "scrolled": true
   },
   "outputs": [],
   "source": [
    "refTrace = np.load('{}/trace_{}.npy'.format(tracePath, referenceTraceIndex))\n",
    "filteredRefTrace = np.array(signal.filtfilt(b=firCoeff, a=1.0, x=refTrace), dtype=np.float32)\n",
    "refTraceEnvelope = filteredRefTrace[referenceTraceXrange[0] : referenceTraceXrange[1]]\n",
    "\n",
    "cntOverCriterion = 0\n",
    "refTraceSum     = np.sum(refTraceEnvelope)\n",
    "refTraceSquSum  = np.sum(np.square(refTraceEnvelope))\n",
    "for traceIndex in tqdm(range(350000, 351000)):\n",
    "    trace = np.load('{}/trace_{}.npy'.format(tracePath, traceIndex))\n",
    "    filteredTrace = np.array(signal.filtfilt(b=firCoeff, a=1.0, x=trace), dtype=np.float32)\n",
    "    traceEnvelope = filteredTrace\n",
    "    #traceEnvelope = np.abs(signal.hilbert(filteredTrace))\n",
    "    \n",
    "    maxCorr, maxCorrIndex, corrs = getCorrs(traceEnvelope, refTraceEnvelope, refTraceSum, refTraceSquSum)\n",
    "    print('Trace {:2d}\\tCorrelation: {:.3f}\\t(point: {:7d})\\tOver criterion: {}'.format(traceIndex, maxCorr, maxCorrIndex, maxCorr >= correlationCriterion))\n",
    "    cntOverCriterion += maxCorr >= correlationCriterion\n",
    "    \n",
    "    plt.figure(figsize=(15, 10))\n",
    "    plt.subplot(4, 1, 1)\n",
    "    plt.title('Original Signal', fontsize=titleFontSize)\n",
    "    plt.plot(trace, linewidth=0.5)\n",
    "    plt.xlim(0, trace.shape[0]-1)\n",
    "    plt.ylabel('Voltage (V)', fontsize=axisFontSize)\n",
    "    plt.vlines(maxCorrIndex,                           np.min(trace), np.max(trace), color='r', alpha=0.5)\n",
    "    plt.vlines(maxCorrIndex+refTraceEnvelope.shape[0], np.min(trace), np.max(trace), color='r', alpha=0.5)\n",
    "        \n",
    "    plt.subplot(4, 1, 2)\n",
    "    plt.title('Filtered Signal ({}-{}Hz)'.format(bandPassFreq[0], bandPassFreq[1]), fontsize=titleFontSize)\n",
    "    plt.plot(filteredTrace, linewidth=0.5, alpha=0.7)\n",
    "    plt.plot(np.arange(maxCorrIndex, maxCorrIndex+refTraceEnvelope.shape[0]), filteredRefTrace[referenceTraceXrange[0] : referenceTraceXrange[1]], linewidth=0.5, alpha=0.7)\n",
    "    plt.xlim(0, filteredTrace.shape[0]-1)\n",
    "    plt.ylabel('Voltage (V)', fontsize=axisFontSize)\n",
    "    plt.vlines(maxCorrIndex,                           np.min(filteredTrace), np.max(filteredTrace), color='r', alpha=0.5)\n",
    "    plt.vlines(maxCorrIndex+refTraceEnvelope.shape[0], np.min(filteredTrace), np.max(filteredTrace), color='r', alpha=0.5)\n",
    "\n",
    "    plt.subplot(4, 1, 3)\n",
    "    plt.title('Overlap zoom'.format(bandPassFreq[0], bandPassFreq[1]), fontsize=titleFontSize)\n",
    "    plt.plot(traceEnvelope, linewidth=0.5, alpha=0.7)\n",
    "    plt.plot(np.arange(maxCorrIndex, maxCorrIndex+refTraceEnvelope.shape[0]), refTraceEnvelope, linewidth=0.5, alpha=0.7)\n",
    "    plt.xlim(maxCorrIndex,  maxCorrIndex+refTraceEnvelope.shape[0]-1)\n",
    "    plt.ylabel('Voltage (V)', fontsize=axisFontSize)\n",
    "    plt.vlines(maxCorrIndex,                           np.min(traceEnvelope), np.max(traceEnvelope), color='r', alpha=0.5)\n",
    "    plt.vlines(maxCorrIndex+refTraceEnvelope.shape[0], np.min(traceEnvelope), np.max(traceEnvelope), color='r', alpha=0.5)\n",
    "\n",
    "    plt.subplot(4, 1, 4)\n",
    "    plt.title('Correlation'.format(bandPassFreq[0], bandPassFreq[1]), fontsize=titleFontSize)\n",
    "    plt.plot(corrs)\n",
    "    plt.xlim(0, len(corrs)-1)\n",
    "    \n",
    "    plt.xlabel('Time (point)', fontsize=axisFontSize)\n",
    "    plt.tight_layout()\n",
    "    plt.savefig('{}/criterionTest_{}.png'.format(resultFolderName, traceIndex), dpi=300, bbox_inches='tight')\n",
    "    plt.show()\n",
    "print(cntOverCriterion)"
   ]
  },
  {
   "cell_type": "markdown",
   "metadata": {},
   "source": [
    "# GPU Alignment"
   ]
  },
  {
   "cell_type": "markdown",
   "metadata": {},
   "source": [
    "## Library"
   ]
  },
  {
   "cell_type": "code",
   "execution_count": null,
   "metadata": {},
   "outputs": [],
   "source": [
    "import gc\n",
    "import cupy as cp\n",
    "import cusignal\n",
    "from concurrent.futures import ThreadPoolExecutor"
   ]
  },
  {
   "cell_type": "markdown",
   "metadata": {},
   "source": [
    "## GPU 정렬을 위한 함수"
   ]
  },
  {
   "cell_type": "code",
   "execution_count": null,
   "metadata": {
    "id": "aR9jFNEERyYN"
   },
   "outputs": [],
   "source": [
    "# Check GPU memory capacity\n",
    "def check_gpu_memory():\n",
    "    mem_info = cp.cuda.runtime.memGetInfo()\n",
    "    free_mem = mem_info[0] / (1024 ** 2)  # Free memory in MB\n",
    "    total_mem = mem_info[1] / (1024 ** 2)  # Total memory in MB\n",
    "    print(f\"GPU Memory - Free: {free_mem:.2f} MB, Total: {total_mem:.2f} MB\")\n",
    "    return free_mem, total_mem\n",
    "\n",
    "def calculate_chunk_size(free_mem_mb, trace_length, ref_length, float32_size=4, mem_usage_ratio=0.5):\n",
    "    # Usable memory after reserving for overhead\n",
    "    usable_mem_mb = free_mem_mb * mem_usage_ratio\n",
    "    if usable_mem_mb <= 0:\n",
    "        raise ValueError(\"Insufficient GPU memory available for processing.\")\n",
    "\n",
    "    usable_mem_bytes = usable_mem_mb * (1024 ** 2)\n",
    "    \n",
    "    # Memory required for one trace and filtering\n",
    "    single_trace_mem = trace_length * float32_size\n",
    "    ref_trace_mem = ref_length * float32_size\n",
    "    filtering_overhead_mem = single_trace_mem  # 필터링 중 추가 메모리 요구량\n",
    "\n",
    "    # Total memory for filtering a batch\n",
    "    overhead_mem = ref_trace_mem * 3  # Reference trace and its sums\n",
    "    memory_per_trace = single_trace_mem + filtering_overhead_mem\n",
    "\n",
    "    # Remaining memory for traces\n",
    "    available_mem = usable_mem_bytes - overhead_mem\n",
    "    if available_mem <= 0:\n",
    "        raise ValueError(\"Not enough memory for even a single trace.\")\n",
    "\n",
    "    # Calculate maximum chunk size\n",
    "    chunk_size = int(available_mem / memory_per_trace)\n",
    "    print(f\"Adjusted chunk size: {chunk_size} traces (usable GPU memory: {usable_mem_mb:.2f} MB)\")\n",
    "    return max(chunk_size, 1)\n",
    "\n",
    "\n",
    "# Optimized GPU-based correlation calculation for multiple traces\n",
    "def getCorrs_gpu_batch(gpu_traces, gpu_refTrace, gpu_refTraceSum, gpu_refTraceSquSum, traceLen, bound):\n",
    "    num_traces, trace_length = gpu_traces.shape\n",
    "    maxCorrs = cp.zeros(num_traces, dtype=cp.float32)\n",
    "    maxCorrIndices = cp.zeros(num_traces, dtype=cp.int32)\n",
    "\n",
    "    gpu_refTrace = gpu_refTrace.reshape(1, -1)  # Broadcastable shape\n",
    "\n",
    "    for pointIndex in tqdm(range(bound, trace_length - traceLen - bound)):\n",
    "        gpu_segments = gpu_traces[:, pointIndex:pointIndex + traceLen]\n",
    "        traceSums = cp.sum(gpu_segments, axis=1)\n",
    "        traceSquSums = cp.sum(cp.square(gpu_segments), axis=1)\n",
    "        corrs = ((traceLen * cp.sum(gpu_segments * gpu_refTrace, axis=1) - traceSums * gpu_refTraceSum) /\n",
    "                 (cp.sqrt(traceLen * traceSquSums - traceSums ** 2) *\n",
    "                  cp.sqrt(traceLen * gpu_refTraceSquSum - gpu_refTraceSum ** 2)))\n",
    "\n",
    "        update_mask = corrs > maxCorrs\n",
    "        maxCorrs = cp.where(update_mask, corrs, maxCorrs)\n",
    "        maxCorrIndices = cp.where(update_mask, pointIndex, maxCorrIndices)\n",
    "\n",
    "    return cp.asnumpy(maxCorrs), cp.asnumpy(maxCorrIndices)"
   ]
  },
  {
   "cell_type": "markdown",
   "metadata": {},
   "source": [
    "# File I/O Function (멀티 프로세스 기반)"
   ]
  },
  {
   "cell_type": "code",
   "execution_count": null,
   "metadata": {},
   "outputs": [],
   "source": [
    "def load_trace(filepath, cut_range):\n",
    "    try:\n",
    "        return np.load(filepath)[cut_range[0]:cut_range[1]]\n",
    "    except Exception as e:\n",
    "        print(f\"Error loading file {filepath}: {e}\")\n",
    "        return None"
   ]
  },
  {
   "cell_type": "markdown",
   "metadata": {},
   "source": [
    "## Alignment"
   ]
  },
  {
   "cell_type": "code",
   "execution_count": null,
   "metadata": {},
   "outputs": [],
   "source": [
    "gpu_firCoeff = cusignal.firwin(\n",
    "    numtaps=filterOrder,          # 필터 탭 수\n",
    "    cutoff=bandPassFreq,          # 대역 통과 주파수\n",
    "    width=filterWidth,            # 필터의 폭\n",
    "    window='hamming',             # 창 함수\n",
    "    fs=samplingFrequency,         # 샘플링 주파수\n",
    "    pass_zero=False               # 대역 통과 필터 여부\n",
    ")\n",
    "\n",
    "# CuPy 배열로 변환 (cusignal은 GPU 기반 연산에 CuPy를 사용)\n",
    "gpu_firCoeff = cp.asarray(gpu_firCoeff)"
   ]
  },
  {
   "cell_type": "code",
   "execution_count": null,
   "metadata": {
    "scrolled": true
   },
   "outputs": [],
   "source": [
    "refTrace = np.load('{}/trace_{}.npy'.format(tracePath, referenceTraceIndex))\n",
    "filteredRefTrace = np.array(signal.filtfilt(b=firCoeff, a=1.0, x=refTrace), dtype=np.float32)\n",
    "filteredRefTrace = filteredRefTrace[referenceTraceXrange[0]:referenceTraceXrange[1]]\n",
    "\n",
    "refTraceSum = np.sum(filteredRefTrace)\n",
    "refTraceSquSum = np.sum(np.square(filteredRefTrace))\n",
    "\n",
    "gpu_refTrace = cp.asarray(filteredRefTrace)\n",
    "gpu_refTraceSum = cp.asarray(refTraceSum)\n",
    "gpu_refTraceSquSum = cp.asarray(refTraceSquSum)\n",
    "\n",
    "# Check GPU memory before processing\n",
    "free_mem, total_mem = check_gpu_memory()\n",
    "\n",
    "# Determine chunk size based on GPU memory and reference trace size\n",
    "trace_length = traceCutRange[1] - traceCutRange[0]\n",
    "ref_length = filteredRefTrace.shape[0]\n",
    "chunk_size = calculate_chunk_size(free_mem, trace_length, ref_length)\n",
    "\n",
    "# Process traces in chunks\n",
    "gpu_traces = []\n",
    "chunk_indices = list(range(0, traceNum, chunk_size))\n",
    "\n",
    "for start_index in tqdm(chunk_indices, desc=\"Processing chunks\"):\n",
    "    end_index = min(start_index + chunk_size, traceNum)\n",
    "\n",
    "    # Load all traces for the current chunk using parallel I/O\n",
    "    with ThreadPoolExecutor(max_workers=16) as executor:\n",
    "        traces = list(executor.map(\n",
    "            lambda idx: load_trace(f\"{tracePath}/trace_{idx}.npy\", traceCutRange),\n",
    "            range(start_index, end_index)\n",
    "        ))\n",
    "    traces = np.array([t for t in traces if t is not None], dtype=np.float32)  # Remove failed loads\n",
    "\n",
    "    # Upload traces to GPU\n",
    "    gpu_traces = cp.asarray(traces)  # (chunk_size, trace_length)\n",
    "    \n",
    "    # Apply FIR filter to all traces using cuSignal with broadcasting\n",
    "    filtered_gpu_traces = cusignal.filtfilt(gpu_firCoeff, 1.0, gpu_traces, axis=1)\n",
    "    gpu_traces = None  # 참조 해제\n",
    "    cp.get_default_memory_pool().free_all_blocks()  # 메모리 풀에서 해제된 블록 반환\n",
    "\n",
    "    # Force filtered_gpu_traces back to GPU memory\n",
    "    filtered_gpu_traces = cp.asarray(filtered_gpu_traces)\n",
    "    \n",
    "    # Transfer filtered traces back to CPU if needed\n",
    "    filtered_traces = cp.asnumpy(filtered_gpu_traces)  # (chunk_size, trace_length)\n",
    "    print(\"processing...\")\n",
    "    # Perform correlation for the current chunk\n",
    "    maxCorrs, maxCorrIndices = getCorrs_gpu_batch(\n",
    "        filtered_gpu_traces, gpu_refTrace, gpu_refTraceSum, gpu_refTraceSquSum,\n",
    "        filteredRefTrace.shape[0], bound\n",
    "    )\n",
    "\n",
    "    # Save aligned traces\n",
    "    for traceIndex, (maxCorr, maxCorrIndex) in enumerate(zip(maxCorrs, maxCorrIndices), start=start_index):\n",
    "        if maxCorr >= correlationCriterion:\n",
    "            trace = filtered_traces[traceIndex - start_index]\n",
    "            if 0 <= maxCorrIndex - bound and maxCorrIndex + filteredRefTrace.shape[0] + bound < len(trace):\n",
    "                np.save('{}/alignTrace{}.npy'.format(resultFolderName, traceIndex), trace[maxCorrIndex - bound : maxCorrIndex + filteredRefTrace.shape[0] + bound])\n",
    "                np.save('{}/trace{}.npy'.format(resultFolderName, traceIndex), traces[traceIndex - start_index][maxCorrIndex - bound : maxCorrIndex + filteredRefTrace.shape[0] + bound])\n",
    "                # print('[ {} trace ] corr: {:.3f}    maxCorrIndex: {}'.format(traceIndex, maxCorr, maxCorrIndex))\n",
    "                # if traceIndex < 100:\n",
    "                #     plt.figure(figsize=(15, 5))\n",
    "                #     plt.subplocft(2, 1, 1)\n",
    "                #     plt.title('Original Signal', fontsize=titleFontSize)\n",
    "                #     plt.plot(trace, linewidth=0.5)\n",
    "                #     plt.xlim(0, trace.shape[0]-1)\n",
    "                #     plt.ylabel('Voltage (V)', fontsize=axisFontSize)\n",
    "                #     plt.vlines(maxCorrIndex,                           np.min(trace), np.max(trace), color='r', alpha=0.5)\n",
    "                #     plt.vlines(maxCorrIndex+filteredRefTrace.shape[0], np.min(trace), np.max(trace), color='r', alpha=0.5)\n",
    "                        \n",
    "                #     plt.subplot(2, 1, 2)\n",
    "                #     plt.title('Filtered Signal ({}-{}Hz)'.format(bandPassFreq[0], bandPassFreq[1]), fontsize=titleFontSize)\n",
    "                #     plt.plot(filtered_traces[traceIndex - start_index], linewidth=0.5, alpha=0.7)\n",
    "                #     plt.plot(np.arange(maxCorrIndex, maxCorrIndex+filteredRefTrace.shape[0]), filteredRefTrace, linewidth=0.5, alpha=0.7)\n",
    "                #     plt.xlim(0, filtered_traces[traceIndex - start_index].shape[0]-1)\n",
    "                #     plt.ylabel('Voltage (V)', fontsize=axisFontSize)\n",
    "                #     plt.vlines(maxCorrIndex,                           np.min(filtered_traces[traceIndex - start_index]), np.max(filtered_traces[traceIndex - start_index]), color='r', alpha=0.5)\n",
    "                #     plt.vlines(maxCorrIndex+filteredRefTrace.shape[0], np.min(filtered_traces[traceIndex - start_index]), np.max(filtered_traces[traceIndex - start_index]), color='r', alpha=0.5)\n",
    "                    \n",
    "                #     plt.xlabel('Time (point)', fontsize=axisFontSize)\n",
    "                #     plt.tight_layout()\n",
    "                #     plt.show()\n",
    "\n",
    "    # Free GPU memory\n",
    "    del filtered_gpu_traces\n",
    "    cp._default_memory_pool.free_all_blocks()\n",
    "\n",
    "    # Free CPU memory\n",
    "    del traces, filtered_traces\n",
    "    gc.collect()"
   ]
  }
 ],
 "metadata": {
  "accelerator": "GPU",
  "colab": {
   "gpuType": "T4",
   "provenance": []
  },
  "kernelspec": {
   "display_name": "ML",
   "language": "python",
   "name": "ml"
  },
  "language_info": {
   "codemirror_mode": {
    "name": "ipython",
    "version": 3
   },
   "file_extension": ".py",
   "mimetype": "text/x-python",
   "name": "python",
   "nbconvert_exporter": "python",
   "pygments_lexer": "ipython3",
   "version": "3.9.19"
  },
  "widgets": {
   "application/vnd.jupyter.widget-state+json": {
    "2579d1dc076a4772a26f20dc42507e92": {
     "model_module": "@jupyter-widgets/controls",
     "model_module_version": "1.5.0",
     "model_name": "ProgressStyleModel",
     "state": {
      "_model_module": "@jupyter-widgets/controls",
      "_model_module_version": "1.5.0",
      "_model_name": "ProgressStyleModel",
      "_view_count": null,
      "_view_module": "@jupyter-widgets/base",
      "_view_module_version": "1.2.0",
      "_view_name": "StyleView",
      "bar_color": null,
      "description_width": ""
     }
    },
    "2acf2a56a47648baa11aab4e56996c05": {
     "model_module": "@jupyter-widgets/controls",
     "model_module_version": "1.5.0",
     "model_name": "DescriptionStyleModel",
     "state": {
      "_model_module": "@jupyter-widgets/controls",
      "_model_module_version": "1.5.0",
      "_model_name": "DescriptionStyleModel",
      "_view_count": null,
      "_view_module": "@jupyter-widgets/base",
      "_view_module_version": "1.2.0",
      "_view_name": "StyleView",
      "description_width": ""
     }
    },
    "2adeca28e04e491f959583cbf80c6136": {
     "model_module": "@jupyter-widgets/base",
     "model_module_version": "1.2.0",
     "model_name": "LayoutModel",
     "state": {
      "_model_module": "@jupyter-widgets/base",
      "_model_module_version": "1.2.0",
      "_model_name": "LayoutModel",
      "_view_count": null,
      "_view_module": "@jupyter-widgets/base",
      "_view_module_version": "1.2.0",
      "_view_name": "LayoutView",
      "align_content": null,
      "align_items": null,
      "align_self": null,
      "border": null,
      "bottom": null,
      "display": null,
      "flex": null,
      "flex_flow": null,
      "grid_area": null,
      "grid_auto_columns": null,
      "grid_auto_flow": null,
      "grid_auto_rows": null,
      "grid_column": null,
      "grid_gap": null,
      "grid_row": null,
      "grid_template_areas": null,
      "grid_template_columns": null,
      "grid_template_rows": null,
      "height": null,
      "justify_content": null,
      "justify_items": null,
      "left": null,
      "margin": null,
      "max_height": null,
      "max_width": null,
      "min_height": null,
      "min_width": null,
      "object_fit": null,
      "object_position": null,
      "order": null,
      "overflow": null,
      "overflow_x": null,
      "overflow_y": null,
      "padding": null,
      "right": null,
      "top": null,
      "visibility": null,
      "width": null
     }
    },
    "2c907c049ffe46b79a5a85aef844f12e": {
     "model_module": "@jupyter-widgets/controls",
     "model_module_version": "1.5.0",
     "model_name": "HTMLModel",
     "state": {
      "_dom_classes": [],
      "_model_module": "@jupyter-widgets/controls",
      "_model_module_version": "1.5.0",
      "_model_name": "HTMLModel",
      "_view_count": null,
      "_view_module": "@jupyter-widgets/controls",
      "_view_module_version": "1.5.0",
      "_view_name": "HTMLView",
      "description": "",
      "description_tooltip": null,
      "layout": "IPY_MODEL_f4a9204fb40b4f608d1e2d4c5a0fd3c2",
      "placeholder": "​",
      "style": "IPY_MODEL_400304d9975f47518c054a35801c41ff",
      "value": "Processing chunks: 100%"
     }
    },
    "400304d9975f47518c054a35801c41ff": {
     "model_module": "@jupyter-widgets/controls",
     "model_module_version": "1.5.0",
     "model_name": "DescriptionStyleModel",
     "state": {
      "_model_module": "@jupyter-widgets/controls",
      "_model_module_version": "1.5.0",
      "_model_name": "DescriptionStyleModel",
      "_view_count": null,
      "_view_module": "@jupyter-widgets/base",
      "_view_module_version": "1.2.0",
      "_view_name": "StyleView",
      "description_width": ""
     }
    },
    "422a6d6bab4c488d875980456caef691": {
     "model_module": "@jupyter-widgets/controls",
     "model_module_version": "1.5.0",
     "model_name": "HBoxModel",
     "state": {
      "_dom_classes": [],
      "_model_module": "@jupyter-widgets/controls",
      "_model_module_version": "1.5.0",
      "_model_name": "HBoxModel",
      "_view_count": null,
      "_view_module": "@jupyter-widgets/controls",
      "_view_module_version": "1.5.0",
      "_view_name": "HBoxView",
      "box_style": "",
      "children": [
       "IPY_MODEL_2c907c049ffe46b79a5a85aef844f12e",
       "IPY_MODEL_6c1c27be90ba404ea1d8e79f0d1e8dfd",
       "IPY_MODEL_a5f23226b5d249bebf514672f31c7d10"
      ],
      "layout": "IPY_MODEL_4bfe4e3a8bf84cca832443148de52e3a"
     }
    },
    "4bfe4e3a8bf84cca832443148de52e3a": {
     "model_module": "@jupyter-widgets/base",
     "model_module_version": "1.2.0",
     "model_name": "LayoutModel",
     "state": {
      "_model_module": "@jupyter-widgets/base",
      "_model_module_version": "1.2.0",
      "_model_name": "LayoutModel",
      "_view_count": null,
      "_view_module": "@jupyter-widgets/base",
      "_view_module_version": "1.2.0",
      "_view_name": "LayoutView",
      "align_content": null,
      "align_items": null,
      "align_self": null,
      "border": null,
      "bottom": null,
      "display": null,
      "flex": null,
      "flex_flow": null,
      "grid_area": null,
      "grid_auto_columns": null,
      "grid_auto_flow": null,
      "grid_auto_rows": null,
      "grid_column": null,
      "grid_gap": null,
      "grid_row": null,
      "grid_template_areas": null,
      "grid_template_columns": null,
      "grid_template_rows": null,
      "height": null,
      "justify_content": null,
      "justify_items": null,
      "left": null,
      "margin": null,
      "max_height": null,
      "max_width": null,
      "min_height": null,
      "min_width": null,
      "object_fit": null,
      "object_position": null,
      "order": null,
      "overflow": null,
      "overflow_x": null,
      "overflow_y": null,
      "padding": null,
      "right": null,
      "top": null,
      "visibility": null,
      "width": null
     }
    },
    "6c1c27be90ba404ea1d8e79f0d1e8dfd": {
     "model_module": "@jupyter-widgets/controls",
     "model_module_version": "1.5.0",
     "model_name": "FloatProgressModel",
     "state": {
      "_dom_classes": [],
      "_model_module": "@jupyter-widgets/controls",
      "_model_module_version": "1.5.0",
      "_model_name": "FloatProgressModel",
      "_view_count": null,
      "_view_module": "@jupyter-widgets/controls",
      "_view_module_version": "1.5.0",
      "_view_name": "ProgressView",
      "bar_style": "success",
      "description": "",
      "description_tooltip": null,
      "layout": "IPY_MODEL_2adeca28e04e491f959583cbf80c6136",
      "max": 1,
      "min": 0,
      "orientation": "horizontal",
      "style": "IPY_MODEL_2579d1dc076a4772a26f20dc42507e92",
      "value": 1
     }
    },
    "a5f23226b5d249bebf514672f31c7d10": {
     "model_module": "@jupyter-widgets/controls",
     "model_module_version": "1.5.0",
     "model_name": "HTMLModel",
     "state": {
      "_dom_classes": [],
      "_model_module": "@jupyter-widgets/controls",
      "_model_module_version": "1.5.0",
      "_model_name": "HTMLModel",
      "_view_count": null,
      "_view_module": "@jupyter-widgets/controls",
      "_view_module_version": "1.5.0",
      "_view_name": "HTMLView",
      "description": "",
      "description_tooltip": null,
      "layout": "IPY_MODEL_c67e33efc05f4f5fa254bba2c07fed21",
      "placeholder": "​",
      "style": "IPY_MODEL_2acf2a56a47648baa11aab4e56996c05",
      "value": " 1/1 [00:08&lt;00:00,  8.44s/it]"
     }
    },
    "c67e33efc05f4f5fa254bba2c07fed21": {
     "model_module": "@jupyter-widgets/base",
     "model_module_version": "1.2.0",
     "model_name": "LayoutModel",
     "state": {
      "_model_module": "@jupyter-widgets/base",
      "_model_module_version": "1.2.0",
      "_model_name": "LayoutModel",
      "_view_count": null,
      "_view_module": "@jupyter-widgets/base",
      "_view_module_version": "1.2.0",
      "_view_name": "LayoutView",
      "align_content": null,
      "align_items": null,
      "align_self": null,
      "border": null,
      "bottom": null,
      "display": null,
      "flex": null,
      "flex_flow": null,
      "grid_area": null,
      "grid_auto_columns": null,
      "grid_auto_flow": null,
      "grid_auto_rows": null,
      "grid_column": null,
      "grid_gap": null,
      "grid_row": null,
      "grid_template_areas": null,
      "grid_template_columns": null,
      "grid_template_rows": null,
      "height": null,
      "justify_content": null,
      "justify_items": null,
      "left": null,
      "margin": null,
      "max_height": null,
      "max_width": null,
      "min_height": null,
      "min_width": null,
      "object_fit": null,
      "object_position": null,
      "order": null,
      "overflow": null,
      "overflow_x": null,
      "overflow_y": null,
      "padding": null,
      "right": null,
      "top": null,
      "visibility": null,
      "width": null
     }
    },
    "f4a9204fb40b4f608d1e2d4c5a0fd3c2": {
     "model_module": "@jupyter-widgets/base",
     "model_module_version": "1.2.0",
     "model_name": "LayoutModel",
     "state": {
      "_model_module": "@jupyter-widgets/base",
      "_model_module_version": "1.2.0",
      "_model_name": "LayoutModel",
      "_view_count": null,
      "_view_module": "@jupyter-widgets/base",
      "_view_module_version": "1.2.0",
      "_view_name": "LayoutView",
      "align_content": null,
      "align_items": null,
      "align_self": null,
      "border": null,
      "bottom": null,
      "display": null,
      "flex": null,
      "flex_flow": null,
      "grid_area": null,
      "grid_auto_columns": null,
      "grid_auto_flow": null,
      "grid_auto_rows": null,
      "grid_column": null,
      "grid_gap": null,
      "grid_row": null,
      "grid_template_areas": null,
      "grid_template_columns": null,
      "grid_template_rows": null,
      "height": null,
      "justify_content": null,
      "justify_items": null,
      "left": null,
      "margin": null,
      "max_height": null,
      "max_width": null,
      "min_height": null,
      "min_width": null,
      "object_fit": null,
      "object_position": null,
      "order": null,
      "overflow": null,
      "overflow_x": null,
      "overflow_y": null,
      "padding": null,
      "right": null,
      "top": null,
      "visibility": null,
      "width": null
     }
    }
   }
  }
 },
 "nbformat": 4,
 "nbformat_minor": 4
}
