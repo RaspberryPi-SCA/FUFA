{
 "cells": [
  {
   "cell_type": "markdown",
   "id": "911fb61d-81f0-43bc-852c-56606664d9d4",
   "metadata": {},
   "source": [
    "# Import"
   ]
  },
  {
   "cell_type": "code",
   "execution_count": null,
   "id": "fb5b1b51-fab2-4804-b347-add9fb6ae4a5",
   "metadata": {},
   "outputs": [],
   "source": [
    "from tqdm.auto import tqdm\n",
    "import numpy as np\n",
    "import matplotlib.pyplot as plt\n",
    "from scipy import signal"
   ]
  },
  {
   "cell_type": "markdown",
   "id": "df7147bf-b1c0-4bb8-9bac-1a9e5a95c344",
   "metadata": {},
   "source": [
    "# Parameter"
   ]
  },
  {
   "cell_type": "code",
   "execution_count": null,
   "id": "ce618e72-1c74-4bc2-9ea0-74a0a7fc39c7",
   "metadata": {},
   "outputs": [],
   "source": [
    "axisFontSize  = 14\n",
    "titleFontSize = 20\n",
    "Trace_Path = 'C:/Users/user/Desktop/라즈베리파이4분석(3-2)/cpu_trace'\n",
    "\n",
    "# parameter\n",
    "samplingFrequency = int(20e9)      # unit: Hz\n",
    "windowLength      = int(1e4)      # unit: point"
   ]
  },
  {
   "cell_type": "markdown",
   "id": "5a2d3207-6721-4787-a932-2672b18c4a5d",
   "metadata": {},
   "source": [
    "# Spectrogram & BandPass"
   ]
  },
  {
   "cell_type": "code",
   "execution_count": null,
   "id": "cee8fe51-78ad-4c57-af6e-148ce95b51d4",
   "metadata": {},
   "outputs": [],
   "source": [
    "# Loop through all combinations\n",
    "for x_index in tqdm(range(10), desc=\"x_index Progress\"):\n",
    "    for y_index in tqdm(range(10), desc=\"y_index Progress\", leave=False):\n",
    "        for tracenum in range(200):\n",
    "            print(\"({}, {}, {})\".format(x_index, y_index, tracenum))\n",
    "            # Load data\n",
    "            try:\n",
    "                trigger = np.load(f'{Trace_Path}/cpu_trigger_{x_index}_{y_index}_{tracenum}.npy')\n",
    "                trace = np.load(f'{Trace_Path}/cpu_trace_{x_index}_{y_index}_{tracenum}.npy')\n",
    "            except FileNotFoundError:\n",
    "                print(f\"File not found: cpu_trigger_{x_index}_{y_index}_{tracenum}.npy or cpu_trace_{x_index}_{y_index}_{tracenum}.npy\")\n",
    "                continue\n",
    "\n",
    "            # Spectrogram\n",
    "            f, t, Sxx = signal.spectrogram(trace, fs=samplingFrequency, window=signal.get_window(window='hamming', Nx=windowLength))\n",
    "            duration = trace.shape[0] / samplingFrequency\n",
    "\n",
    "            # Plot\n",
    "            plt.figure(figsize=(10, 13))\n",
    "            plt.subplot(6, 1, 1)\n",
    "            plt.title('Original Signal', fontsize=titleFontSize)\n",
    "            plt.plot(np.linspace(0, duration, trace.shape[0]), trace, linewidth=0.5)\n",
    "            plt.plot(np.linspace(0, duration, trigger.shape[0]), trigger / 3000, color='red')\n",
    "            plt.xlim(0, duration)\n",
    "            plt.ylabel('Voltage (V)', fontsize=axisFontSize)\n",
    "\n",
    "            plt.subplot(6, 1, 2)\n",
    "            plt.title('Spectrogram', fontsize=titleFontSize)\n",
    "            plt.pcolormesh(t, f, Sxx)\n",
    "            plt.xlim(0, duration)\n",
    "            plt.ylabel('Frequency [Hz]', fontsize=axisFontSize)\n",
    "\n",
    "            plt.subplot(6, 1, 3)\n",
    "            plt.title('Spectrogram near clock freq', fontsize=titleFontSize)\n",
    "            ind1 = len(f[f<= 950e6])\n",
    "            ind2 = len(f[f<=1050e6])\n",
    "            plt.pcolormesh(t, f[ind1:ind2], Sxx[ind1:ind2, :])\n",
    "            plt.xlim(0, duration)\n",
    "            plt.ylabel('Voltage (V)', fontsize=axisFontSize)\n",
    "\n",
    "            plt.subplot(6, 1, 4)\n",
    "            plt.title('Spectrogram band', fontsize=titleFontSize)\n",
    "            ind1 = len(f[f<=870e6])\n",
    "            ind2 = len(f[f<=930e6])\n",
    "            plt.pcolormesh(t, f[ind1:ind2], Sxx[ind1:ind2, :])\n",
    "            plt.xlim(0, duration)\n",
    "            plt.ylabel('Voltage (V)', fontsize=axisFontSize)\n",
    "            \n",
    "            plt.subplot(6, 1, 5)\n",
    "            plt.title('Spectrogram low freq1', fontsize=titleFontSize)\n",
    "            ind = len(f[f<=100e6])\n",
    "            plt.pcolormesh(t, f[:ind], Sxx[:ind, :])\n",
    "            plt.xlim(0, duration)\n",
    "            plt.ylabel('Voltage (V)', fontsize=axisFontSize)\n",
    "                     \n",
    "            plt.subplot(6, 1, 6)\n",
    "            plt.title('Spectrogram low freq2', fontsize=titleFontSize)\n",
    "            ind = len(f[f<=50e6])\n",
    "            plt.pcolormesh(t, f[:ind], Sxx[:ind, :])\n",
    "            plt.xlim(0, duration)\n",
    "            plt.ylabel('Voltage (V)', fontsize=axisFontSize)\n",
    "            plt.xlabel('Time [sec]', fontsize=axisFontSize)\n",
    "\n",
    "            plt.tight_layout()\n",
    "            # Show or save the plot\n",
    "            plt.show()\n"
   ]
  },
  {
   "cell_type": "code",
   "execution_count": null,
   "id": "87638c7c-cf32-4f13-a3de-e480e2662607",
   "metadata": {},
   "outputs": [],
   "source": []
  }
 ],
 "metadata": {
  "kernelspec": {
   "display_name": "Python 3 (ipykernel)",
   "language": "python",
   "name": "python3"
  },
  "language_info": {
   "codemirror_mode": {
    "name": "ipython",
    "version": 3
   },
   "file_extension": ".py",
   "mimetype": "text/x-python",
   "name": "python",
   "nbconvert_exporter": "python",
   "pygments_lexer": "ipython3",
   "version": "3.9.5"
  }
 },
 "nbformat": 4,
 "nbformat_minor": 5
}
