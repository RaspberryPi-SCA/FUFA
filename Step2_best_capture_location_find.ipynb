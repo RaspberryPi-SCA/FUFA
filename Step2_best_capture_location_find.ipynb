{
 "cells": [
  {
   "cell_type": "markdown",
   "id": "4f316b20-afb3-47fd-adcb-e6b1b7b83aec",
   "metadata": {},
   "source": [
    "# Import"
   ]
  },
  {
   "cell_type": "code",
   "execution_count": null,
   "id": "ef9f718a-21ed-42f9-90d8-17920ada0ee3",
   "metadata": {},
   "outputs": [],
   "source": [
    "from tqdm.auto import tqdm\n",
    "import numpy as np\n",
    "import matplotlib.pyplot as plt\n",
    "from scipy import signal"
   ]
  },
  {
   "cell_type": "markdown",
   "id": "176ac7ee-c8fe-4290-86a7-37892c4817fd",
   "metadata": {},
   "source": [
    "# Parameter"
   ]
  },
  {
   "cell_type": "code",
   "execution_count": null,
   "id": "b7549f94-50e5-4ddf-81f4-18c1fd4c6ba3",
   "metadata": {},
   "outputs": [],
   "source": [
    "axisFontSize  = 14\n",
    "titleFontSize = 20\n",
    "Trace_Path = '/Users/sungbin/source/라즈베리파이/위치 파형'\n",
    "resultFolderName = '/Users/sungbin/source/라즈베리파이/위치 파형/Spectrogram'"
   ]
  },
  {
   "cell_type": "markdown",
   "id": "82b9a447-6a73-472e-894d-8c9df21b3b85",
   "metadata": {},
   "source": [
    "# CPU Spectrogram"
   ]
  },
  {
   "cell_type": "code",
   "execution_count": null,
   "id": "e49bb369-2f59-4f8e-a338-448ec90e630e",
   "metadata": {},
   "outputs": [],
   "source": [
    "XYZgridNum = 10 # xyz 나눈 횟수\n",
    "Tracenumber = 200 # 한 위치 당 수집한 파형 갯수\n",
    "\n",
    "samplingFrequency = int(5e9)     # unit: Hz\n",
    "windowLength      = int(1e3)      # unit: point\n",
    "\n",
    "Frequency = [0, int(8e8)]       # spectrogram에서 보는 주파수 범위\n",
    "filterOrder  = 100\n",
    "bandPassFreq = [int(6e8), int(7e8)]  # 600 MHz ~ 1.5 GHz"
   ]
  },
  {
   "cell_type": "code",
   "execution_count": null,
   "id": "15d21c36-578b-47ca-b8e3-3421be162812",
   "metadata": {},
   "outputs": [],
   "source": [
    "for Xindex in tqdm(range(XYZgridNum)):\n",
    "    for Yindex in range(XYZgridNum):\n",
    "        for tracenum in range(Tracenumber):\n",
    "            print('({}, {}) / ({}, {}) {}th Trace'.format(Xindex+1, Yindex+1, XYZgridNum, XYZgridNum, tracenum+1))\n",
    "            trigger = np.load('{}/cpu_trigger_{}_{}_{}.npy'.format(Trace_Path, Xindex, Yindex, tracenum))\n",
    "            trace = np.load('{}/cpu_trace_{}_{}_{}.npy'.format(Trace_Path, Xindex, Yindex, tracenum))\n",
    "    \n",
    "            f, t, Sxx = signal.spectrogram(trace, fs=samplingFrequency, window=signal.get_window(window='hamming', Nx=windowLength))\n",
    "            np.save('{}/cpu_f_{}_{}_{}.npy'.format(resultFolderName, Xindex, Yindex, tracenum), f)\n",
    "            np.save('{}/cpu_t_{}_{}_{}.npy'.format(resultFolderName, Xindex, Yindex, tracenum), t)\n",
    "            np.save('{}/cpu_Sxx_{}_{}_{}.npy'.format(resultFolderName, Xindex, Yindex, tracenum), Sxx)\n",
    "    \n",
    "            sos = signal.butter(N=filterOrder, Wn=bandPassFreq, btype='bandpass', analog=False, output='sos', fs=samplingFrequency)\n",
    "            filteredTrace = signal.sosfilt(sos, trace)\n",
    "            np.save('{}/cpu_filtered_{}_{}_{}.npy'.format(resultFolderName, Xindex, Yindex, tracenum), filteredTrace)\n",
    "            \n",
    "            duration = trace.shape[0] / samplingFrequency\n",
    "            \n",
    "            plt.figure(figsize=(15, 10))\n",
    "            plt.subplot(3, 1, 1)\n",
    "            plt.title('Original Signal', fontsize=titleFontSize)\n",
    "            plt.plot(np.linspace(0, duration, trace.shape[0]), trace)\n",
    "            plt.plot(np.linspace(0, duration, trigger.shape[0]), trigger, color='red')\n",
    "            plt.xlim(0, duration)\n",
    "            plt.ylabel('Voltage (V)', fontsize=axisFontSize)\n",
    "            \n",
    "            plt.subplot(3, 1, 2)\n",
    "            plt.title('Spectrogram', fontsize=titleFontSize)\n",
    "            plt.pcolormesh(t, f, Sxx)\n",
    "            plt.xlim(0, duration)\n",
    "            plt.ylim(Frequency[0], Frequency[1])\n",
    "            plt.ylabel('Frequency [Hz]', fontsize=axisFontSize)\n",
    "            \n",
    "            plt.subplot(3, 1, 3)\n",
    "            plt.title('Filtered Signal ({}-{}Hz)'.format(bandPassFreq[0], bandPassFreq[1]), fontsize=titleFontSize)\n",
    "            plt.plot(np.linspace(0, duration, trace.shape[0]), filteredTrace)\n",
    "            plt.xlim(0, duration)\n",
    "            plt.ylabel('Voltage (V)', fontsize=axisFontSize)\n",
    "            plt.xlabel('Time [sec]', fontsize=axisFontSize)\n",
    "            plt.tight_layout()\n",
    "            plt.savefig('{}/cpu_bandPass_{}_{}_{}.png'.format(resultFolderName, Xindex, Yindex, tracenum), dpi=300, bbox_inches='tight')\n",
    "            plt.show()"
   ]
  },
  {
   "cell_type": "markdown",
   "id": "1e4357bc-d291-41be-8a01-1a0b1f048f93",
   "metadata": {},
   "source": [
    "# Capacitor Spectrogram"
   ]
  },
  {
   "cell_type": "code",
   "execution_count": null,
   "id": "7c8c3d11-d49d-4750-a0f9-fbceec814ece",
   "metadata": {},
   "outputs": [],
   "source": [
    "Capacitornum = 10 # 커페시터 갯수\n",
    "Tracenumber = 200 # 한 커페시터 당 수집한 파형 갯수\n",
    "\n",
    "samplingFrequency = int(5e9)     # unit: Hz\n",
    "windowLength      = int(1e3)      # unit: point\n",
    "\n",
    "Frequency = [0, int(8e8)]\n",
    "filterOrder  = 100\n",
    "bandPassFreq = [int(6e8), int(7e8)]  # 600 MHz ~ 1.5 GHz"
   ]
  },
  {
   "cell_type": "code",
   "execution_count": null,
   "id": "f1e469fc-287a-4cdd-9b08-7a2a84fd95b5",
   "metadata": {},
   "outputs": [],
   "source": [
    "for capacitornum in tqdm(range(Capacitornum)):\n",
    "    for tracenum in range(Tracenumber):\n",
    "        print('{}th Capacitor {}th Trace'.format(capacitornum+1, tracenum+1))\n",
    "\n",
    "        trigger = np.load('{}/capacitor_trigger_{}_{}ßßß.npy'.format(Trace_Path, capacitornum, tracenum))\n",
    "        trace = np.load('{}/capacitor_trace{}_{}.npy'.format(Trace_Path, capacitornum, tracenum))\n",
    "        \n",
    "        f, t, Sxx = signal.spectrogram(trace, fs=samplingFrequency, window=signal.get_window(window='hamming', Nx=windowLength))\n",
    "        np.save('{}/capacitor_f_{}_{}.npy'.format(resultFolderName, capacitornum, tracenum), f)\n",
    "        np.save('{}/capacitor_t_{}_{}.npy'.format(resultFolderName, capacitornum, tracenum), t)\n",
    "        np.save('{}/capacitor_Sxx_{}_{}.npy'.format(resultFolderName, capacitornum, tracenum), Sxx)\n",
    "\n",
    "        sos = signal.butter(N=filterOrder, Wn=bandPassFreq, btype='bandpass', analog=False, output='sos', fs=samplingFrequency)\n",
    "        filteredTrace = signal.sosfilt(sos, trace)\n",
    "        np.save('{}/capacitor_filtered_{}_{}.npy'.format(resultFolderName, capacitornum, tracenum), filteredTrace)\n",
    "        \n",
    "        duration = trace.shape[0] / samplingFrequency\n",
    "        \n",
    "        plt.figure(figsize=(15, 10))\n",
    "        plt.subplot(3, 1, 1)\n",
    "        plt.title('Original Signal', fontsize=titleFontSize)\n",
    "        plt.plot(np.linspace(0, duration, trace.shape[0]), trace)\n",
    "        plt.plot(np.linspace(0, duration, trigger.shape[0]), trigger, color='red')\n",
    "        plt.xlim(0, duration)\n",
    "        plt.ylabel('Voltage (V)', fontsize=axisFontSize)\n",
    "        \n",
    "        plt.subplot(3, 1, 2)\n",
    "        plt.title('Spectrogram', fontsize=titleFontSize)\n",
    "        plt.pcolormesh(t, f, Sxx)\n",
    "        plt.xlim(0, duration)\n",
    "        plt.ylim(Frequency[0], Frequency[1])\n",
    "        plt.ylabel('Frequency [Hz]', fontsize=axisFontSize)\n",
    "        \n",
    "        plt.subplot(3, 1, 3)\n",
    "        plt.title('Filtered Signal ({}-{}Hz)'.format(bandPassFreq[0], bandPassFreq[1]), fontsize=titleFontSize)\n",
    "        plt.plot(np.linspace(0, duration, trace.shape[0]), filteredTrace)\n",
    "        plt.xlim(0, duration)\n",
    "        plt.ylabel('Voltage (V)', fontsize=axisFontSize)\n",
    "        plt.xlabel('Time [sec]', fontsize=axisFontSize)\n",
    "        plt.tight_layout()\n",
    "        plt.savefig('{}/capacitor_bandPass_{}_{}.png'.format(resultFolderName, capacitornum, tracenum), dpi=300, bbox_inches='tight')\n",
    "        plt.show()"
   ]
  }
 ],
 "metadata": {
  "kernelspec": {
   "display_name": "Python 3 (ipykernel)",
   "language": "python",
   "name": "python3"
  },
  "language_info": {
   "codemirror_mode": {
    "name": "ipython",
    "version": 3
   },
   "file_extension": ".py",
   "mimetype": "text/x-python",
   "name": "python",
   "nbconvert_exporter": "python",
   "pygments_lexer": "ipython3",
   "version": "3.9.5"
  }
 },
 "nbformat": 4,
 "nbformat_minor": 5
}
