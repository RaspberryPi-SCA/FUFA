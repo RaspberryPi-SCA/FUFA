{
 "cells": [
  {
   "cell_type": "markdown",
   "id": "d632b44e-89d2-4e4b-964f-b5ee559aad02",
   "metadata": {},
   "source": [
    "# Parameters"
   ]
  },
  {
   "cell_type": "code",
   "execution_count": null,
   "id": "bffcc608-8f41-4a07-a55b-69f1ca7028ba",
   "metadata": {},
   "outputs": [],
   "source": [
    "# RaspberryPi connect library\n",
    "import RaspberryPi\n",
    "\n",
    "# XYZ Table\n",
    "import time\n",
    "import pytrinamic\n",
    "from pytrinamic.connections import ConnectionManager\n",
    "from pytrinamic.modules import TMCM6110\n",
    "\n",
    "# Oscilloscope\n",
    "from lecroy_python3 import *\n",
    "\n",
    "# 추가 import\n",
    "import os\n",
    "from tqdm.auto import tqdm\n",
    "import numpy as np\n",
    "import matplotlib.pyplot as plt\n",
    "from scipy import signal\n",
    "\n",
    "# RaspberryPi parameters\n",
    "HOST = '192.168.137.233'\n",
    "ID = 'sungbin'\n",
    "PW = '1234'\n",
    "PORT = 22\n",
    "AESFILE = 'raspberry/TinyAES'\n",
    "\n",
    "# XYZ Table\n",
    "XYZgridNum = 10\n",
    "XYZendPoint = [-281065, -321640]\n",
    "\n",
    "# Oscilloscope\n",
    "oscilloIP = '192.168.0.5'\n",
    "traceLen  = int(25e4)\n",
    "\n",
    "# SaveFile\n",
    "resultFolderName = \"C:/Users/FI 4/Desktop/raspberryPiCode/라즈베리파이_20240923/파형수집\"\n",
    "\n",
    "axisFontSize  = 14\n",
    "titleFontSize = 20"
   ]
  },
  {
   "cell_type": "markdown",
   "id": "247e900e-98e8-4e87-8eba-bb13266d26fd",
   "metadata": {},
   "source": [
    "# 연결 테스트"
   ]
  },
  {
   "cell_type": "code",
   "execution_count": null,
   "id": "0373e5c7-bf69-4ba9-91c5-321fa52f788b",
   "metadata": {},
   "outputs": [],
   "source": [
    "encryptTimes = 1\n",
    "    \n",
    "plaintexts  = np.empty((encryptTimes, 16), dtype=np.uint8)\n",
    "ciphertexts = np.empty((encryptTimes, 16), dtype=np.uint8)\n",
    "    \n",
    "testAES = RaspberryPi.RaspberryPi(HOST = HOST, ID = ID, PW = PW, PORT = PORT, AESFILENAME = AESFILE)\n",
    "for times in range(encryptTimes):\n",
    "    plaintexts[times] = np.random.randint(low=0, high=256, size=16, dtype=np.uint8)\n",
    "    testAES.sendPT(plaintexts[times])\n",
    "    testAES.readCT(ciphertexts[times])\n",
    "del testAES\n",
    "    \n",
    "for times in range(encryptTimes):\n",
    "    for index in range(16):\n",
    "        print('0x{:02x}, '.format(plaintexts[times, index]), end='')\n",
    "    print()\n",
    "    for index in range(16):\n",
    "        print('0x{:02x}, '.format(ciphertexts[times, index]), end='')\n",
    "    print()\n",
    "    print()"
   ]
  },
  {
   "cell_type": "markdown",
   "id": "7f1d39df-70a3-4dcc-8d79-c461b7b4e95f",
   "metadata": {},
   "source": [
    "# Connect Infinite Loop(위치 대략적으로 찾는 용)"
   ]
  },
  {
   "cell_type": "code",
   "execution_count": null,
   "id": "af4ba96d-1be6-4724-b2e7-5b660776f89d",
   "metadata": {},
   "outputs": [],
   "source": [
    "plaintexts  = np.empty((16), dtype=np.uint8)\n",
    "ciphertexts = np.empty((16), dtype=np.uint8)\n",
    "\n",
    "Rasp = RaspberryPi.RaspberryPi(HOST = HOST, ID = ID, PW = PW, PORT = PORT, AESFILENAME = AESFILE)\n",
    "\n",
    "while True:\n",
    "    plaintexts = np.random.randint(low=0, high=256, size=16, dtype=np.uint8)\n",
    "    Rasp.sendPT(plaintexts)\n",
    "    Rasp.readCT(ciphertexts)\n",
    "    time.sleep(0.5)"
   ]
  },
  {
   "cell_type": "markdown",
   "id": "138037ae-5280-46dd-ac5b-591434e545bb",
   "metadata": {},
   "source": [
    "# Raspberry Pi connect"
   ]
  },
  {
   "cell_type": "code",
   "execution_count": null,
   "id": "62f893a7-130c-402e-829e-f63f662eead8",
   "metadata": {},
   "outputs": [],
   "source": [
    "Rasp = RaspberryPi.RaspberryPi(HOST = HOST, ID = ID, PW = PW, PORT = PORT, AESFILENAME = AESFILE)"
   ]
  },
  {
   "cell_type": "markdown",
   "id": "33db9c73-d658-4124-b85d-e79ea222deac",
   "metadata": {},
   "source": [
    "# XYZ Table setting"
   ]
  },
  {
   "cell_type": "code",
   "execution_count": null,
   "id": "e380253e-1ea1-462f-bfdd-debf7a704e4b",
   "metadata": {},
   "outputs": [],
   "source": [
    "connectionManager = ConnectionManager()\n",
    "myInterface       = connectionManager.connect()\n",
    "\n",
    "module = TMCM6110(myInterface)\n",
    "motorZ = module.motors[0]\n",
    "motorY = module.motors[1]\n",
    "motorX = module.motors[2]"
   ]
  },
  {
   "cell_type": "markdown",
   "id": "20b9b045-0ec4-4213-926c-cd11fedda189",
   "metadata": {},
   "source": [
    "# Stop All"
   ]
  },
  {
   "cell_type": "code",
   "execution_count": null,
   "id": "62635a49-4534-4af6-a541-75e240d2cf9e",
   "metadata": {},
   "outputs": [],
   "source": [
    "motorX.stop()\n",
    "motorY.stop()\n",
    "motorZ.stop()"
   ]
  },
  {
   "cell_type": "markdown",
   "id": "087e5b27-35a5-405e-9f98-0dd08b6b5b31",
   "metadata": {},
   "source": [
    "# Move"
   ]
  },
  {
   "cell_type": "code",
   "execution_count": null,
   "id": "6c853186-c1df-46e9-a3fd-e72ab5816af6",
   "metadata": {},
   "outputs": [],
   "source": [
    "# Positive: Left\n",
    "# Negative: Right\n",
    "# Value:    Speed\n",
    "\n",
    "motorX.rotate(-300)\n",
    "time.sleep(1)\n",
    "motorX.stop()"
   ]
  },
  {
   "cell_type": "code",
   "execution_count": null,
   "id": "7f79e8e2-4dbb-43e7-aab4-5cb51d36f1c4",
   "metadata": {},
   "outputs": [],
   "source": [
    "# Positive: Forward\n",
    "# Negative: Backward\n",
    "# Value:    Speed\n",
    "\n",
    "motorY.rotate(-300)\n",
    "time.sleep(1)\n",
    "motorY.stop()"
   ]
  },
  {
   "cell_type": "code",
   "execution_count": null,
   "id": "ae8e6d8d-7098-40f2-ba33-29b30af2e517",
   "metadata": {},
   "outputs": [],
   "source": [
    "# Positive: Up\n",
    "# Negative: Down\n",
    "# Value:    Speed\n",
    "\n",
    "motorZ.rotate(-300)\n",
    "time.sleep(1)\n",
    "motorZ.stop()"
   ]
  },
  {
   "cell_type": "markdown",
   "id": "64eeff84-403f-40e4-9e19-468c24878ab3",
   "metadata": {},
   "source": [
    "# Initialization"
   ]
  },
  {
   "cell_type": "code",
   "execution_count": null,
   "id": "5bdd4ff3-d303-4464-a12f-b98ec4d9c443",
   "metadata": {},
   "outputs": [],
   "source": [
    "motorX.actual_position = 0\n",
    "motorY.actual_position = 0\n",
    "motorZ.actual_position = 0"
   ]
  },
  {
   "cell_type": "markdown",
   "id": "2bb0b185-a751-42d7-bb62-a452d291a2a2",
   "metadata": {},
   "source": [
    "# Get Target Position"
   ]
  },
  {
   "cell_type": "code",
   "execution_count": null,
   "id": "ede2cb6a-6cae-498a-bb93-ea376751b1eb",
   "metadata": {},
   "outputs": [],
   "source": [
    "print(motorX.actual_position, motorY.actual_position, motorZ.actual_position)"
   ]
  },
  {
   "cell_type": "code",
   "execution_count": null,
   "id": "8ebbc374-f63a-4198-98b8-e2bd980c2b60",
   "metadata": {},
   "outputs": [],
   "source": [
    "def XYZgoto(posX, posY):\n",
    "    criteria = 30\n",
    "    speed    = 500\n",
    "    while abs(posX - motorX.actual_position) > criteria or abs(posY - motorY.actual_position) > criteria:\n",
    "        if abs(posX - motorX.actual_position) > criteria:\n",
    "            motorX.rotate(speed if posX - motorX.actual_position > 0 else -speed)\n",
    "        else:\n",
    "            motorX.stop()\n",
    "\n",
    "        if abs(posY - motorY.actual_position) > criteria:\n",
    "            motorY.rotate(speed if posY - motorY.actual_position> 0 else -speed)\n",
    "        else:\n",
    "            motorY.stop()\n",
    "        #print('({}, {})'.format(motorX.actual_position, motorY.actual_position), end='\\r')\n",
    "\n",
    "    motorX.stop()\n",
    "    motorY.stop()"
   ]
  },
  {
   "cell_type": "code",
   "execution_count": null,
   "id": "1b2b1b35-f45b-47fc-b285-3f787fdc9da5",
   "metadata": {},
   "outputs": [],
   "source": [
    "XYZgoto(0, 0)"
   ]
  },
  {
   "cell_type": "markdown",
   "id": "d979ee5f-5f88-4155-81b7-7b9c60f3c534",
   "metadata": {},
   "source": [
    "# Oscillo setting"
   ]
  },
  {
   "cell_type": "code",
   "execution_count": null,
   "id": "1fa7e44c-c1e8-4f93-911f-5cfc7794d0c2",
   "metadata": {},
   "outputs": [],
   "source": [
    "oscillo = LeCroy()\n",
    "oscillo.connect(oscilloIP)"
   ]
  },
  {
   "cell_type": "markdown",
   "id": "c29a7f0c-c765-4e68-94d4-dc200398153b",
   "metadata": {},
   "source": [
    "# 암호문 검증"
   ]
  },
  {
   "cell_type": "code",
   "execution_count": null,
   "id": "3a767501-796f-4203-b1dd-f0ee422fcbb0",
   "metadata": {},
   "outputs": [],
   "source": [
    "SBox    = np.array([0x63, 0x7c, 0x77, 0x7b, 0xf2, 0x6b, 0x6f, 0xc5, 0x30, 0x01, 0x67, 0x2b, 0xfe, 0xd7, 0xab, 0x76, 0xca, 0x82, 0xc9, 0x7d, 0xfa, 0x59, 0x47, 0xf0, 0xad, 0xd4, 0xa2, 0xaf, 0x9c, 0xa4, 0x72, 0xc0, 0xb7, 0xfd, 0x93, 0x26, 0x36, 0x3f, 0xf7, 0xcc, 0x34, 0xa5, 0xe5, 0xf1, 0x71, 0xd8, 0x31, 0x15, 0x04, 0xc7, 0x23, 0xc3, 0x18, 0x96, 0x05, 0x9a, 0x07, 0x12, 0x80, 0xe2, 0xeb, 0x27, 0xb2, 0x75, 0x09, 0x83, 0x2c, 0x1a, 0x1b, 0x6e, 0x5a, 0xa0, 0x52, 0x3b, 0xd6, 0xb3, 0x29, 0xe3, 0x2f, 0x84, 0x53, 0xd1, 0x00, 0xed, 0x20, 0xfc, 0xb1, 0x5b, 0x6a, 0xcb, 0xbe, 0x39, 0x4a, 0x4c, 0x58, 0xcf, 0xd0, 0xef, 0xaa, 0xfb, 0x43, 0x4d, 0x33, 0x85, 0x45, 0xf9, 0x02, 0x7f, 0x50, 0x3c, 0x9f, 0xa8, 0x51, 0xa3, 0x40, 0x8f, 0x92, 0x9d, 0x38, 0xf5, 0xbc, 0xb6, 0xda, 0x21, 0x10, 0xff, 0xf3, 0xd2, 0xcd, 0x0c, 0x13, 0xec, 0x5f, 0x97, 0x44, 0x17, 0xc4, 0xa7, 0x7e, 0x3d, 0x64, 0x5d, 0x19, 0x73, 0x60, 0x81, 0x4f, 0xdc, 0x22, 0x2a, 0x90, 0x88, 0x46, 0xee, 0xb8, 0x14, 0xde, 0x5e, 0x0b, 0xdb, 0xe0, 0x32, 0x3a, 0x0a, 0x49, 0x06, 0x24, 0x5c, 0xc2, 0xd3, 0xac, 0x62, 0x91, 0x95, 0xe4, 0x79, 0xe7, 0xc8, 0x37, 0x6d, 0x8d, 0xd5, 0x4e, 0xa9, 0x6c, 0x56, 0xf4, 0xea, 0x65, 0x7a, 0xae, 0x08, 0xba, 0x78, 0x25, 0x2e, 0x1c, 0xa6, 0xb4, 0xc6, 0xe8, 0xdd, 0x74, 0x1f, 0x4b, 0xbd, 0x8b, 0x8a, 0x70, 0x3e, 0xb5, 0x66, 0x48, 0x03, 0xf6, 0x0e, 0x61, 0x35, 0x57, 0xb9, 0x86, 0xc1, 0x1d, 0x9e, 0xe1, 0xf8, 0x98, 0x11, 0x69, 0xd9, 0x8e, 0x94, 0x9b, 0x1e, 0x87, 0xe9, 0xce, 0x55, 0x28, 0xdf, 0x8c, 0xa1, 0x89, 0x0d, 0xbf, 0xe6, 0x42, 0x68, 0x41, 0x99, 0x2d, 0x0f, 0xb0, 0x54, 0xbb, 0x16], dtype=np.uint8)\n",
    "masterkey = np.array([0x59, 0x6f, 0x75, 0x20, 0x52, 0x20, 0x53, 0x43, 0x41, 0x20, 0x4d, 0x61, 0x73, 0x74, 0x65, 0x72], dtype = np.uint8)\n",
    "\n",
    "def AESxtimes(inputData):\n",
    "    return ((inputData << 1) & 0xFF) ^ ((inputData >> 7) * 0x1b)\n",
    "def AESshiftRows(state):\n",
    "    outputState = np.zeros(16, dtype=np.uint8)\n",
    "    for i in range(16):\n",
    "        outputState[i] = state[(i + 4 * (i % 4)) % 16]\n",
    "    return outputState\n",
    "def AESmixColumns(state):\n",
    "    outputState = np.zeros(16, dtype=np.uint8)\n",
    "    for i in range(0, 16, 4):\n",
    "        outputState[i    ] = AESxtimes(state[i  ] ^ state[i+1]) ^ state[i+1] ^ state[i+2] ^ state[i+3]\n",
    "        outputState[i + 1] = AESxtimes(state[i+1] ^ state[i+2]) ^ state[i+2] ^ state[i+3] ^ state[i  ]\n",
    "        outputState[i + 2] = AESxtimes(state[i+2] ^ state[i+3]) ^ state[i+3] ^ state[i  ] ^ state[i+1]\n",
    "        outputState[i + 3] = AESxtimes(state[i+3] ^ state[i  ]) ^ state[i  ] ^ state[i+1] ^ state[i+2]\n",
    "    return outputState     \n",
    "def AESkeyExpansion(masterKey):\n",
    "    masterKey = np.array(masterKey, dtype=np.uint8)\n",
    "    \n",
    "    rcon        = 1\n",
    "    roundKey    = np.zeros((11, 16), dtype=np.uint8)\n",
    "    roundKey[0] = masterKey.copy()\n",
    "    for roundIndex in range(1, 11):\n",
    "        roundKey[roundIndex][0] = roundKey[roundIndex - 1][0] ^ SBox[roundKey[roundIndex - 1][13]] ^ rcon\n",
    "        roundKey[roundIndex][1] = roundKey[roundIndex - 1][1] ^ SBox[roundKey[roundIndex - 1][14]]\n",
    "        roundKey[roundIndex][2] = roundKey[roundIndex - 1][2] ^ SBox[roundKey[roundIndex - 1][15]]\n",
    "        roundKey[roundIndex][3] = roundKey[roundIndex - 1][3] ^ SBox[roundKey[roundIndex - 1][12]]\n",
    "        for i in range(4, 16, 4):\n",
    "            roundKey[roundIndex][i    ] = roundKey[roundIndex][i - 4] ^ roundKey[roundIndex - 1][i    ]\n",
    "            roundKey[roundIndex][i + 1] = roundKey[roundIndex][i - 3] ^ roundKey[roundIndex - 1][i + 1]\n",
    "            roundKey[roundIndex][i + 2] = roundKey[roundIndex][i - 2] ^ roundKey[roundIndex - 1][i + 2]\n",
    "            roundKey[roundIndex][i + 3] = roundKey[roundIndex][i - 1] ^ roundKey[roundIndex - 1][i + 3]\n",
    "        rcon = AESxtimes(rcon)\n",
    "    return roundKey\n",
    "def AES(plaintext, masterKey):\n",
    "    plaintext = np.array(plaintext, dtype=np.uint8)\n",
    "    masterKey = np.array(masterKey, dtype=np.uint8)\n",
    "    roundKey = AESkeyExpansion(masterKey)\n",
    "\n",
    "    state = plaintext ^ roundKey[0]\n",
    "    for roundIndex in range(1, 10):\n",
    "        state = SBox[state]\n",
    "        state = AESshiftRows(state)\n",
    "        state = AESmixColumns(state)\n",
    "        state ^= roundKey[roundIndex]\n",
    "    state = SBox[state]\n",
    "    state = AESshiftRows(state)\n",
    "    state ^= roundKey[10]\n",
    "    \n",
    "    return state"
   ]
  },
  {
   "cell_type": "markdown",
   "id": "1e6bbb68",
   "metadata": {},
   "source": [
    "# CPU 파형 수집"
   ]
  },
  {
   "cell_type": "code",
   "execution_count": null,
   "id": "9f213501-b7e8-443d-85a1-09b254d73585",
   "metadata": {},
   "outputs": [],
   "source": [
    "samplingFrequency = int(5e9)      # unit: Hz\n",
    "windowLength      = int(1e3)  "
   ]
  },
  {
   "cell_type": "code",
   "execution_count": null,
   "id": "2c1af20f-9896-4cb0-a883-1493e947a47e",
   "metadata": {},
   "outputs": [],
   "source": [
    "Tracenumber = 200"
   ]
  },
  {
   "cell_type": "code",
   "execution_count": null,
   "id": "e2cea153-c561-44e9-830c-ae4f851efe7e",
   "metadata": {},
   "outputs": [],
   "source": [
    "for Xindex in tqdm(range(XYZgridNum)):\n",
    "   for Yindex in range(XYZgridNum):\n",
    "        for tracenum in range(Tracenumber):\n",
    "            print('({}, {}) / ({}, {}) {}th Trace'.format(Xindex+1, Yindex+1, XYZgridNum, XYZgridNum, tracenum+1))\n",
    "            XYZgoto(int(XYZendPoint[0] / (XYZgridNum - 1) * Xindex), int(XYZendPoint[1] / (XYZgridNum - 1) * Yindex))\n",
    "                    \n",
    "            plaintexts = np.random.randint(low=0, high=256, size=16, dtype=np.uint8)\n",
    "            Rasp.sendPT(plaintexts)\n",
    "            \n",
    "            ciphertexts = np.empty(shape=(16), dtype=np.uint8)\n",
    "            Rasp.readCT(ciphertexts)\n",
    "\n",
    "            # 암호문 확인\n",
    "            if not np.array_equal(ciphertexts, AES(plaintexts, masterkey)):\n",
    "                print(\"unmatch\")\n",
    "            \n",
    "            print(plaintexts)\n",
    "            print(ciphertexts)\n",
    "\n",
    "            trigger = oscillo.getDataFloats(channel='C3')[:traceLen]\n",
    "            trace = oscillo.getDataFloats(channel='C2')[:traceLen]\n",
    "            np.save('{}/cpu_trigger_{}_{}_{}.npy'.format(resultFolderName, Xindex, Yindex, tracenum), trigger)\n",
    "            np.save('{}/cpu_trace_{}_{}_{}.npy'.format(resultFolderName, Xindex, Yindex, tracenum), trace)\n",
    "            plt.figure(figsize=(15, 3))\n",
    "            plt.plot(trigger/100, color='red')\n",
    "            plt.plot(trace, linewidth = 0.5)\n",
    "            plt.xlim(0, traceLen-1)\n",
    "            plt.show()"
   ]
  },
  {
   "cell_type": "markdown",
   "id": "8a301b43-29f5-409b-aaac-9787559a9a57",
   "metadata": {},
   "source": [
    "# 커패시터 파형 수집"
   ]
  },
  {
   "cell_type": "code",
   "execution_count": null,
   "id": "15a69d60",
   "metadata": {},
   "outputs": [],
   "source": [
    "Capacitornum = 0 # 측정할 캐패시터 num\n",
    "Tracenumber = 200 # 측정 캐패시터 당 수집할 파형 갯수"
   ]
  },
  {
   "cell_type": "code",
   "execution_count": null,
   "id": "45b3b37b-a136-41f3-9a47-0800d73210fe",
   "metadata": {
    "scrolled": true
   },
   "outputs": [],
   "source": [
    "for tracenum in range(Tracenumber):\n",
    "    print('{}th Capacitor {}th Trace'.format(Capacitornum + 1, tracenum + 1))\n",
    "    \n",
    "    plaintexts = np.random.randint(low=0, high=256, size=16, dtype=np.uint8)\n",
    "    Rasp.sendPT(plaintexts)\n",
    "\n",
    "    ciphertexts = np.empty(shape=(16), dtype=np.uint8)\n",
    "    Rasp.readCT(ciphertexts)\n",
    "\n",
    "    # 암호문 확인\n",
    "    if not np.array_equal(ciphertexts, AES(plaintexts, masterkey)):\n",
    "        print(\"unmatch\")\n",
    "\n",
    "    print(plaintexts)\n",
    "    print(ciphertexts)\n",
    "\n",
    "    trigger = oscillo.getDataFloats(channel='C3')[:traceLen]\n",
    "    trace = oscillo.getDataFloats(channel='C2')[:traceLen]\n",
    "    np.save('{}/capacitor_trigger_{}_{}.npy'.format(resultFolderName, Capacitornum, tracenum), trigger)\n",
    "    np.save('{}/capacitor_trace{}_{}.npy'.format(resultFolderName, Capacitornum, tracenum), trace)\n",
    "    plt.figure(figsize=(15, 3))\n",
    "    plt.plot(trigger/10, color='red')\n",
    "    plt.plot(trace, linewidth = 0.5)\n",
    "    plt.xlim(0, traceLen-1)\n",
    "    plt.show()"
   ]
  },
  {
   "cell_type": "code",
   "execution_count": null,
   "id": "b8a5da53-77bb-49ce-8425-86cc5a10cb83",
   "metadata": {},
   "outputs": [],
   "source": []
  },
  {
   "cell_type": "code",
   "execution_count": null,
   "id": "3b4a8e97-d840-4faf-92b9-ca18e300a67e",
   "metadata": {},
   "outputs": [],
   "source": []
  }
 ],
 "metadata": {
  "kernelspec": {
   "display_name": "Python 3 (ipykernel)",
   "language": "python",
   "name": "python3"
  },
  "language_info": {
   "codemirror_mode": {
    "name": "ipython",
    "version": 3
   },
   "file_extension": ".py",
   "mimetype": "text/x-python",
   "name": "python",
   "nbconvert_exporter": "python",
   "pygments_lexer": "ipython3",
   "version": "3.9.19"
  }
 },
 "nbformat": 4,
 "nbformat_minor": 5
}
