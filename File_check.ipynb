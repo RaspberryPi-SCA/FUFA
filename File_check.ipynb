{
 "cells": [
  {
   "cell_type": "code",
   "execution_count": 19,
   "id": "b4966805-2259-454b-a98a-ac4c0cfa0eac",
   "metadata": {
    "scrolled": true
   },
   "outputs": [
    {
     "name": "stdout",
     "output_type": "stream",
     "text": [
      "CPU 파일 리스트 (처음 10개): alignTrace100000.npy\n",
      "GPU 파일 리스트 (처음 10개): alignTrace100000.npy\n",
      "CPU 결과 파일 개수: 151318\n",
      "GPU 결과 파일 개수: 151318\n"
     ]
    },
    {
     "data": {
      "application/vnd.jupyter.widget-view+json": {
       "model_id": "132e83a04a2f4afa82077462ab43d721",
       "version_major": 2,
       "version_minor": 0
      },
      "text/plain": [
       "  0%|          | 0/151318 [00:00<?, ?it/s]"
      ]
     },
     "metadata": {},
     "output_type": "display_data"
    },
    {
     "name": "stdout",
     "output_type": "stream",
     "text": [
      "Different file name: alignTrace433530.npy, alignTrace433530.npy\n",
      "Different file name: alignTrace609147.npy, alignTrace609147.npy\n",
      "Different file name: alignTrace869600.npy, alignTrace869600.npy\n",
      "결과가 같은 파일 개수: 151315\n",
      "결과가 다른 파일 개수: 3\n"
     ]
    }
   ],
   "source": [
    "import os\n",
    "import numpy as np\n",
    "from tqdm.auto import tqdm\n",
    "\n",
    "# 두 디렉터리 경로 설정\n",
    "cpu_result_folder = \"C:/Users/01sun/source/repos/raspberrypi/trace2/alignment_and_drop_cpu\"\n",
    "gpu_result_folder = \"C:/Users/01sun/source/repos/raspberrypi/trace2/alignment_and_drop_GPU\"\n",
    "# 비교 허용 오차 설정\n",
    "cpu_files = sorted([f for f in os.listdir(cpu_result_folder) if f.startswith(\"alignTrace\")])\n",
    "gpu_files = sorted([f for f in os.listdir(gpu_result_folder) if f.startswith(\"alignTrace\")])\n",
    "# 첫 10개 파일만 출력\n",
    "print(\"CPU 파일 리스트 (처음 10개):\", cpu_files[0])\n",
    "print(\"GPU 파일 리스트 (처음 10개):\", gpu_files[0])\n",
    "# 폴더 내 파일 개수 출력\n",
    "print(f\"CPU 결과 파일 개수: {len(cpu_files)}\")\n",
    "print(f\"GPU 결과 파일 개수: {len(gpu_files)}\")\n",
    "\n",
    "# 파일 개수 불일치 여부 확인\n",
    "if len(cpu_files) != len(gpu_files):\n",
    "    print(\"경고: CPU와 GPU 결과 폴더의 파일 개수가 다릅니다!\")\n",
    "\n",
    "# 결과 비교\n",
    "same_count = 0\n",
    "different_count = 0\n",
    "different_files = []\n",
    "\n",
    "for cpu_file, gpu_file in tqdm(zip(cpu_files, gpu_files), total=len(cpu_files)):\n",
    "    cpu_path = os.path.join(cpu_result_folder, cpu_file)\n",
    "    gpu_path = os.path.join(gpu_result_folder, gpu_file)\n",
    "\n",
    "    cpu_trace = np.load(cpu_path)\n",
    "    gpu_trace = np.load(gpu_path)\n",
    "    \n",
    "    if not np.array_equal(cpu_trace, gpu_trace):\n",
    "        print(f\"Different file name: {cpu_file}, {gpu_file}\")\n",
    "        different_files.append(gpu_file)\n",
    "        different_count +=1\n",
    "    else:\n",
    "        same_count += 1\n",
    "# 비교 결과 출력\n",
    "print(f\"결과가 같은 파일 개수: {same_count}\")\n",
    "print(f\"결과가 다른 파일 개수: {different_count}\")"
   ]
  },
  {
   "cell_type": "code",
   "execution_count": null,
   "id": "9ab53563-5d06-443e-ae5a-f376da595516",
   "metadata": {},
   "outputs": [],
   "source": [
    "import os\n",
    "import math\n",
    "import cusignal\n",
    "import cupy as cp\n",
    "import numpy as np\n",
    "from scipy import signal\n",
    "from tqdm.auto import tqdm\n",
    "\n",
    "samplingFrequency = int(5e9)  # unit: Hz (set this from the setting of oscilloscope)\n",
    "windowLength      = 1000      # The number of samples in the window.\n",
    "noverlap          = None  \n",
    "\n",
    "filterOrder  = int(1e2 - 1)            # Length of the filter (number of coefficients, i.e. the filter order + 1). numtaps must be odd if a passband includes the Nyquist frequency\n",
    "filterWidth  = None                    # If width is not None, then assume it is the approximate width of the transition region (expressed in the same units as fs) for use in Kaiser FIR filter design. In this case, the window argument is ignored.\n",
    "bandPassFreq = [int(1e7), int(1e8)]#, int(895e6), int(905e6), int(995e6), int(1005e6)]#[int(15e6), int(25e6)]  # Cutoff frequency of filter (expressed in the same units as fs) OR an array of cutoff frequencies (that is, band edges). In the latter case, the frequencies in cutoff should be positive and monotonically increasing between 0 and fs/2. The values 0 and fs/2 must not be included in cutoff.\n",
    "\n",
    "referenceTraceIndex = 301\n",
    "referenceTraceXrange = [13000, 26500]# [9500, 44500] #[39000, 44900] #[42900, 44900]\n",
    "correlationCriterion = 0.65           # drop the trace whose maximum of the correlation between the trace and reference trace is under that\n",
    "traceCutRange = [7000, 30000]\n",
    "\n",
    "MAwindowSize = 500\n",
    "jump         = 1\n",
    "bound        = 500\n",
    "\n",
    "firCoeff = signal.firwin(numtaps=filterOrder, cutoff=bandPassFreq, width=filterWidth, window='hamming', fs=samplingFrequency, pass_zero=False)\n",
    "\n",
    "gpu_firCoeff = cusignal.firwin(numtaps=filterOrder, cutoff=bandPassFreq, width=filterWidth, window='hamming', fs=samplingFrequency, pass_zero=False)\n",
    "gpu_firCoeff = cp.asarray(gpu_firCoeff)"
   ]
  },
  {
   "cell_type": "code",
   "execution_count": null,
   "id": "c906bc78-46c1-4de3-b4f1-ec4e36e481da",
   "metadata": {},
   "outputs": [],
   "source": [
    "def getCorrs(trace, refTrace, refTraceSum, refTraceSquSum, bound):\n",
    "    squTrace = np.square(trace)\n",
    "    traceLen = refTrace.shape[0]\n",
    "    # Phase 1\n",
    "    maxCorr      = 0\n",
    "    maxCorrIndex = 0\n",
    "    for pointIndex in range(bound, trace.shape[0] - refTrace.shape[0] - bound):\n",
    "        traceSum    = np.sum(trace[pointIndex:pointIndex+traceLen])\n",
    "        traceSquSum = np.sum(squTrace[pointIndex:pointIndex+traceLen])\n",
    "        corr = ((traceLen *  np.sum(trace[pointIndex:pointIndex+traceLen] * refTrace) - traceSum * refTraceSum) / (math.sqrt(traceLen * traceSquSum - traceSum ** 2) * math.sqrt(traceLen * refTraceSquSum - refTraceSum ** 2)))\n",
    "        if maxCorr < corr:\n",
    "            maxCorr = corr\n",
    "            maxCorrIndex = pointIndex\n",
    "    return maxCorr, maxCorrIndex\n",
    "\n",
    "def getCorrs_gpu_batch(gpu_traces, gpu_refTrace, gpu_refTraceSum, gpu_refTraceSquSum, traceLen, bound):\n",
    "    num_traces, trace_length = gpu_traces.shape\n",
    "    maxCorrs = cp.zeros(num_traces)\n",
    "    maxCorrIndices = cp.zeros(num_traces, dtype=cp.int32)\n",
    "\n",
    "    gpu_refTrace = gpu_refTrace.reshape(1, -1)  # Broadcastable shape\n",
    "\n",
    "    for pointIndex in tqdm(range(bound, trace_length - traceLen - bound)):\n",
    "        gpu_segments = gpu_traces[:, pointIndex:pointIndex + traceLen]\n",
    "        traceSums = cp.sum(gpu_segments, axis=1)\n",
    "        traceSquSums = cp.sum(cp.square(gpu_segments), axis=1)\n",
    "        corrs = ((traceLen * cp.sum(gpu_segments * gpu_refTrace, axis=1) - traceSums * gpu_refTraceSum) /\n",
    "                 (cp.sqrt(traceLen * traceSquSums - traceSums ** 2) *\n",
    "                  cp.sqrt(traceLen * gpu_refTraceSquSum - gpu_refTraceSum ** 2)))\n",
    "\n",
    "        update_mask = corrs > maxCorrs\n",
    "        maxCorrs = cp.where(update_mask, corrs, maxCorrs)\n",
    "        maxCorrIndices = cp.where(update_mask, pointIndex, maxCorrIndices)\n",
    "\n",
    "    return cp.asnumpy(maxCorrs), cp.asnumpy(maxCorrIndices)"
   ]
  },
  {
   "cell_type": "markdown",
   "id": "4102d202-b487-4eaa-b5b3-962ee361befe",
   "metadata": {},
   "source": [
    "# Filter check"
   ]
  },
  {
   "cell_type": "markdown",
   "id": "226d4869-2d6c-4cd8-b955-c0692101296f",
   "metadata": {},
   "source": [
    "## parameter"
   ]
  },
  {
   "cell_type": "code",
   "execution_count": null,
   "id": "ef784c04-b250-472d-9329-6b194a3065e7",
   "metadata": {},
   "outputs": [],
   "source": [
    "check_trace = [\"alignTrace433530.npy\", \n",
    "               \"alignTrace609147.npy\", \n",
    "               \"alignTrace869600.npy\"]"
   ]
  },
  {
   "cell_type": "code",
   "execution_count": null,
   "id": "b3a159fe-f506-4d42-a9d5-f003b4d74246",
   "metadata": {},
   "outputs": [],
   "source": [
    "tracePath = 'C:/Users/01sun/source/repos/raspberrypi/trace2'\n",
    "\n",
    "for trace_name in tqdm(check_trace, total=len(check_trace)):\n",
    "    trace = np.load('{}/{}'.format(tracePath, trace_name))\n",
    "    gpu_trace = cp.asarray(trace)\n",
    "    filteredTrace = np.array(signal.filtfilt(b=firCoeff, a=1.0, x=trace), dtype=np.float32)\n",
    "    filtered_gpu_trace = cusignal.filtfilt(gpu_firCoeff, 1.0, gpu_trace)"
   ]
  }
 ],
 "metadata": {
  "kernelspec": {
   "display_name": "Python (side_channel)",
   "language": "python",
   "name": "side_channel"
  },
  "language_info": {
   "codemirror_mode": {
    "name": "ipython",
    "version": 3
   },
   "file_extension": ".py",
   "mimetype": "text/x-python",
   "name": "python",
   "nbconvert_exporter": "python",
   "pygments_lexer": "ipython3",
   "version": "3.9.20"
  }
 },
 "nbformat": 4,
 "nbformat_minor": 5
}
