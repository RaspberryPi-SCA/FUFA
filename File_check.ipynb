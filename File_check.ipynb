{
 "cells": [
  {
   "cell_type": "code",
   "execution_count": 19,
   "id": "b4966805-2259-454b-a98a-ac4c0cfa0eac",
   "metadata": {
    "scrolled": true
   },
   "outputs": [
    {
     "name": "stdout",
     "output_type": "stream",
     "text": [
      "CPU 파일 리스트 (처음 10개): alignTrace100000.npy\n",
      "GPU 파일 리스트 (처음 10개): alignTrace100000.npy\n",
      "CPU 결과 파일 개수: 151318\n",
      "GPU 결과 파일 개수: 151318\n"
     ]
    },
    {
     "data": {
      "application/vnd.jupyter.widget-view+json": {
       "model_id": "132e83a04a2f4afa82077462ab43d721",
       "version_major": 2,
       "version_minor": 0
      },
      "text/plain": [
       "  0%|          | 0/151318 [00:00<?, ?it/s]"
      ]
     },
     "metadata": {},
     "output_type": "display_data"
    },
    {
     "name": "stdout",
     "output_type": "stream",
     "text": [
      "Different file name: alignTrace433530.npy, alignTrace433530.npy\n",
      "Different file name: alignTrace609147.npy, alignTrace609147.npy\n",
      "Different file name: alignTrace869600.npy, alignTrace869600.npy\n",
      "결과가 같은 파일 개수: 151315\n",
      "결과가 다른 파일 개수: 3\n"
     ]
    }
   ],
   "source": [
    "import os\n",
    "import numpy as np\n",
    "from tqdm.auto import tqdm\n",
    "\n",
    "# 두 디렉터리 경로 설정\n",
    "cpu_result_folder = \"C:/Users/01sun/source/repos/raspberrypi/trace2/alignment_and_drop_cpu\"\n",
    "gpu_result_folder = \"C:/Users/01sun/source/repos/raspberrypi/trace2/alignment_and_drop_GPU\"\n",
    "# 비교 허용 오차 설정\n",
    "cpu_files = sorted([f for f in os.listdir(cpu_result_folder) if f.startswith(\"alignTrace\")])\n",
    "gpu_files = sorted([f for f in os.listdir(gpu_result_folder) if f.startswith(\"alignTrace\")])\n",
    "# 첫 10개 파일만 출력\n",
    "print(\"CPU 파일 리스트 (처음 10개):\", cpu_files[0])\n",
    "print(\"GPU 파일 리스트 (처음 10개):\", gpu_files[0])\n",
    "# 폴더 내 파일 개수 출력\n",
    "print(f\"CPU 결과 파일 개수: {len(cpu_files)}\")\n",
    "print(f\"GPU 결과 파일 개수: {len(gpu_files)}\")\n",
    "\n",
    "# 파일 개수 불일치 여부 확인\n",
    "if len(cpu_files) != len(gpu_files):\n",
    "    print(\"경고: CPU와 GPU 결과 폴더의 파일 개수가 다릅니다!\")\n",
    "\n",
    "# 결과 비교\n",
    "same_count = 0\n",
    "different_count = 0\n",
    "different_files = []\n",
    "\n",
    "for cpu_file, gpu_file in tqdm(zip(cpu_files, gpu_files), total=len(cpu_files)):\n",
    "    cpu_path = os.path.join(cpu_result_folder, cpu_file)\n",
    "    gpu_path = os.path.join(gpu_result_folder, gpu_file)\n",
    "\n",
    "    cpu_trace = np.load(cpu_path)\n",
    "    gpu_trace = np.load(gpu_path)\n",
    "    \n",
    "    if not np.array_equal(cpu_trace, gpu_trace):\n",
    "        print(f\"Different file name: {cpu_file}, {gpu_file}\")\n",
    "        different_files.append(gpu_file)\n",
    "        different_count +=1\n",
    "    else:\n",
    "        same_count += 1\n",
    "# 비교 결과 출력\n",
    "print(f\"결과가 같은 파일 개수: {same_count}\")\n",
    "print(f\"결과가 다른 파일 개수: {different_count}\")"
   ]
  },
  {
   "cell_type": "code",
   "execution_count": null,
   "id": "9ab53563-5d06-443e-ae5a-f376da595516",
   "metadata": {},
   "outputs": [],
   "source": []
  }
 ],
 "metadata": {
  "kernelspec": {
   "display_name": "SCA",
   "language": "python",
   "name": "sca"
  },
  "language_info": {
   "codemirror_mode": {
    "name": "ipython",
    "version": 3
   },
   "file_extension": ".py",
   "mimetype": "text/x-python",
   "name": "python",
   "nbconvert_exporter": "python",
   "pygments_lexer": "ipython3",
   "version": "3.10.15"
  }
 },
 "nbformat": 4,
 "nbformat_minor": 5
}
