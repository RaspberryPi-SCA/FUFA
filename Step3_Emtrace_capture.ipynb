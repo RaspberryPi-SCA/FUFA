{
 "cells": [
  {
   "cell_type": "markdown",
   "id": "d632b44e-89d2-4e4b-964f-b5ee559aad02",
   "metadata": {},
   "source": [
    "# Parameters"
   ]
  },
  {
   "cell_type": "code",
   "execution_count": null,
   "id": "23bc584f-c300-4a60-94a0-5e1b37b00743",
   "metadata": {},
   "outputs": [],
   "source": [
    "# RaspberryPi connect library\n",
    "import RaspberryPi\n",
    "\n",
    "# Oscilloscope\n",
    "from lecroy_python3 import *\n",
    "\n",
    "# 추가 import\n",
    "import os\n",
    "from tqdm.auto import tqdm\n",
    "import numpy as np\n",
    "import matplotlib.pyplot as plt\n",
    "from scipy import signal\n",
    "\n",
    "# RaspberryPi parameters\n",
    "HOST = '192.168.137.233'\n",
    "ID = 'sungbin'\n",
    "PW = '1234'\n",
    "PORT = 22\n",
    "AESFILE = 'raspberry/TinyAES'\n",
    "\n",
    "# Oscilloscope\n",
    "oscilloIP = '192.168.0.5'\n",
    "traceLen  = int(25e4)\n",
    "\n",
    "# SaveFile\n",
    "resultFolderName = \"C:/Users/FI 4/Desktop/raspberryPiCode/라즈베리파이_20240923/파형수집\"\n",
    "\n",
    "# 수집할 파형 갯수\n",
    "Tracenumber = 100000 # 위치 당 수집할 파형 갯수"
   ]
  },
  {
   "cell_type": "markdown",
   "id": "138037ae-5280-46dd-ac5b-591434e545bb",
   "metadata": {},
   "source": [
    "# Raspberry Pi connect"
   ]
  },
  {
   "cell_type": "code",
   "execution_count": null,
   "id": "62f893a7-130c-402e-829e-f63f662eead8",
   "metadata": {},
   "outputs": [],
   "source": [
    "Rasp = RaspberryPi.RaspberryPi(HOST = HOST, ID = ID, PW = PW, PORT = PORT, AESFILENAME = AESFILE)"
   ]
  },
  {
   "cell_type": "markdown",
   "id": "d979ee5f-5f88-4155-81b7-7b9c60f3c534",
   "metadata": {},
   "source": [
    "# Oscillo setting"
   ]
  },
  {
   "cell_type": "code",
   "execution_count": null,
   "id": "1fa7e44c-c1e8-4f93-911f-5cfc7794d0c2",
   "metadata": {},
   "outputs": [],
   "source": [
    "oscillo = LeCroy()\n",
    "oscillo.connect(oscilloIP)"
   ]
  },
  {
   "cell_type": "markdown",
   "id": "c29a7f0c-c765-4e68-94d4-dc200398153b",
   "metadata": {},
   "source": [
    "# 암호문 검증"
   ]
  },
  {
   "cell_type": "code",
   "execution_count": null,
   "id": "3a767501-796f-4203-b1dd-f0ee422fcbb0",
   "metadata": {},
   "outputs": [],
   "source": [
    "SBox    = np.array([0x63, 0x7c, 0x77, 0x7b, 0xf2, 0x6b, 0x6f, 0xc5, 0x30, 0x01, 0x67, 0x2b, 0xfe, 0xd7, 0xab, 0x76, 0xca, 0x82, 0xc9, 0x7d, 0xfa, 0x59, 0x47, 0xf0, 0xad, 0xd4, 0xa2, 0xaf, 0x9c, 0xa4, 0x72, 0xc0, 0xb7, 0xfd, 0x93, 0x26, 0x36, 0x3f, 0xf7, 0xcc, 0x34, 0xa5, 0xe5, 0xf1, 0x71, 0xd8, 0x31, 0x15, 0x04, 0xc7, 0x23, 0xc3, 0x18, 0x96, 0x05, 0x9a, 0x07, 0x12, 0x80, 0xe2, 0xeb, 0x27, 0xb2, 0x75, 0x09, 0x83, 0x2c, 0x1a, 0x1b, 0x6e, 0x5a, 0xa0, 0x52, 0x3b, 0xd6, 0xb3, 0x29, 0xe3, 0x2f, 0x84, 0x53, 0xd1, 0x00, 0xed, 0x20, 0xfc, 0xb1, 0x5b, 0x6a, 0xcb, 0xbe, 0x39, 0x4a, 0x4c, 0x58, 0xcf, 0xd0, 0xef, 0xaa, 0xfb, 0x43, 0x4d, 0x33, 0x85, 0x45, 0xf9, 0x02, 0x7f, 0x50, 0x3c, 0x9f, 0xa8, 0x51, 0xa3, 0x40, 0x8f, 0x92, 0x9d, 0x38, 0xf5, 0xbc, 0xb6, 0xda, 0x21, 0x10, 0xff, 0xf3, 0xd2, 0xcd, 0x0c, 0x13, 0xec, 0x5f, 0x97, 0x44, 0x17, 0xc4, 0xa7, 0x7e, 0x3d, 0x64, 0x5d, 0x19, 0x73, 0x60, 0x81, 0x4f, 0xdc, 0x22, 0x2a, 0x90, 0x88, 0x46, 0xee, 0xb8, 0x14, 0xde, 0x5e, 0x0b, 0xdb, 0xe0, 0x32, 0x3a, 0x0a, 0x49, 0x06, 0x24, 0x5c, 0xc2, 0xd3, 0xac, 0x62, 0x91, 0x95, 0xe4, 0x79, 0xe7, 0xc8, 0x37, 0x6d, 0x8d, 0xd5, 0x4e, 0xa9, 0x6c, 0x56, 0xf4, 0xea, 0x65, 0x7a, 0xae, 0x08, 0xba, 0x78, 0x25, 0x2e, 0x1c, 0xa6, 0xb4, 0xc6, 0xe8, 0xdd, 0x74, 0x1f, 0x4b, 0xbd, 0x8b, 0x8a, 0x70, 0x3e, 0xb5, 0x66, 0x48, 0x03, 0xf6, 0x0e, 0x61, 0x35, 0x57, 0xb9, 0x86, 0xc1, 0x1d, 0x9e, 0xe1, 0xf8, 0x98, 0x11, 0x69, 0xd9, 0x8e, 0x94, 0x9b, 0x1e, 0x87, 0xe9, 0xce, 0x55, 0x28, 0xdf, 0x8c, 0xa1, 0x89, 0x0d, 0xbf, 0xe6, 0x42, 0x68, 0x41, 0x99, 0x2d, 0x0f, 0xb0, 0x54, 0xbb, 0x16], dtype=np.uint8)\n",
    "masterkey = np.array([0x59, 0x6f, 0x75, 0x20, 0x52, 0x20, 0x53, 0x43, 0x41, 0x20, 0x4d, 0x61, 0x73, 0x74, 0x65, 0x72], dtype = np.uint8)\n",
    "\n",
    "def AESxtimes(inputData):\n",
    "    return ((inputData << 1) & 0xFF) ^ ((inputData >> 7) * 0x1b)\n",
    "def AESshiftRows(state):\n",
    "    outputState = np.zeros(16, dtype=np.uint8)\n",
    "    for i in range(16):\n",
    "        outputState[i] = state[(i + 4 * (i % 4)) % 16]\n",
    "    return outputState\n",
    "def AESmixColumns(state):\n",
    "    outputState = np.zeros(16, dtype=np.uint8)\n",
    "    for i in range(0, 16, 4):\n",
    "        outputState[i    ] = AESxtimes(state[i  ] ^ state[i+1]) ^ state[i+1] ^ state[i+2] ^ state[i+3]\n",
    "        outputState[i + 1] = AESxtimes(state[i+1] ^ state[i+2]) ^ state[i+2] ^ state[i+3] ^ state[i  ]\n",
    "        outputState[i + 2] = AESxtimes(state[i+2] ^ state[i+3]) ^ state[i+3] ^ state[i  ] ^ state[i+1]\n",
    "        outputState[i + 3] = AESxtimes(state[i+3] ^ state[i  ]) ^ state[i  ] ^ state[i+1] ^ state[i+2]\n",
    "    return outputState     \n",
    "def AESkeyExpansion(masterKey):\n",
    "    masterKey = np.array(masterKey, dtype=np.uint8)\n",
    "    \n",
    "    rcon        = 1\n",
    "    roundKey    = np.zeros((11, 16), dtype=np.uint8)\n",
    "    roundKey[0] = masterKey.copy()\n",
    "    for roundIndex in range(1, 11):\n",
    "        roundKey[roundIndex][0] = roundKey[roundIndex - 1][0] ^ SBox[roundKey[roundIndex - 1][13]] ^ rcon\n",
    "        roundKey[roundIndex][1] = roundKey[roundIndex - 1][1] ^ SBox[roundKey[roundIndex - 1][14]]\n",
    "        roundKey[roundIndex][2] = roundKey[roundIndex - 1][2] ^ SBox[roundKey[roundIndex - 1][15]]\n",
    "        roundKey[roundIndex][3] = roundKey[roundIndex - 1][3] ^ SBox[roundKey[roundIndex - 1][12]]\n",
    "        for i in range(4, 16, 4):\n",
    "            roundKey[roundIndex][i    ] = roundKey[roundIndex][i - 4] ^ roundKey[roundIndex - 1][i    ]\n",
    "            roundKey[roundIndex][i + 1] = roundKey[roundIndex][i - 3] ^ roundKey[roundIndex - 1][i + 1]\n",
    "            roundKey[roundIndex][i + 2] = roundKey[roundIndex][i - 2] ^ roundKey[roundIndex - 1][i + 2]\n",
    "            roundKey[roundIndex][i + 3] = roundKey[roundIndex][i - 1] ^ roundKey[roundIndex - 1][i + 3]\n",
    "        rcon = AESxtimes(rcon)\n",
    "    return roundKey\n",
    "def AES(plaintext, masterKey):\n",
    "    plaintext = np.array(plaintext, dtype=np.uint8)\n",
    "    masterKey = np.array(masterKey, dtype=np.uint8)\n",
    "    roundKey = AESkeyExpansion(masterKey)\n",
    "\n",
    "    state = plaintext ^ roundKey[0]\n",
    "    for roundIndex in range(1, 10):\n",
    "        state = SBox[state]\n",
    "        state = AESshiftRows(state)\n",
    "        state = AESmixColumns(state)\n",
    "        state ^= roundKey[roundIndex]\n",
    "    state = SBox[state]\n",
    "    state = AESshiftRows(state)\n",
    "    state ^= roundKey[10]\n",
    "    \n",
    "    return state"
   ]
  },
  {
   "cell_type": "markdown",
   "id": "1e6bbb68",
   "metadata": {},
   "source": [
    "# 파형 수집"
   ]
  },
  {
   "cell_type": "code",
   "execution_count": null,
   "id": "e2cea153-c561-44e9-830c-ae4f851efe7e",
   "metadata": {
    "scrolled": true
   },
   "outputs": [],
   "source": [
    "os.makedirs('{}/trace{}'.format(resultFolderName, Tracenumber), exist_ok=True)\n",
    "plains  = np.zeros((Tracenumber, 16), dtype=np.uint8)\n",
    "ciphers = np.zeros((Tracenumber, 16), dtype=np.uint8)\n",
    "traces = np.zeros((Tracenumber, traceLen), dtype=np.float32)\n",
    "for traceIndex in tqdm(range(traceNum)):\n",
    "    plains[traceIndex] = np.random.randint(low=0, high=256, size=16, dtype=np.uint8)\n",
    "    Rasp.sendPT(plains[traceIndex])\n",
    "    Rasp.readCT(ciphers[traceIndex])\n",
    "    if (ciphers[traceIndex] != AES(plains[traceIndex], rightKey)).any():\n",
    "        print('ERROR!! {} trace'.format(traceIndex))\n",
    "        print(plains[traceIndex])\n",
    "        print(ciphers[traceIndex])\n",
    "        print(AES(plains[traceIndex], rightKey))\n",
    "    traces[traceIndex] = oscillo.getDataFloats(channel='C2')[:traceLen].astype(np.float32)\n",
    "    \n",
    "np.save('{}/trace/trace.npy'.format(resultFolderName, traceIndex), traces)\n",
    "np.save('{}/trace/plain.npy'.format(resultFolderName), plains)\n",
    "np.save('{}/trace/cipher.npy'.format(resultFolderName), ciphers)"
   ]
  }
 ],
 "metadata": {
  "kernelspec": {
   "display_name": "Python (side_channel)",
   "language": "python",
   "name": "side_channel"
  },
  "language_info": {
   "codemirror_mode": {
    "name": "ipython",
    "version": 3
   },
   "file_extension": ".py",
   "mimetype": "text/x-python",
   "name": "python",
   "nbconvert_exporter": "python",
   "pygments_lexer": "ipython3",
   "version": "3.9.20"
  }
 },
 "nbformat": 4,
 "nbformat_minor": 5
}
